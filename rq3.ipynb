{
 "cells": [
  {
   "cell_type": "code",
   "execution_count": 22,
   "id": "initial_id",
   "metadata": {
    "collapsed": true
   },
   "outputs": [],
   "source": [
    "import pandas as pd\n",
    "import math\n",
    "import numpy as np\n",
    "import seaborn as sns                       #visualisation\n",
    "import matplotlib\n",
    "import matplotlib.pyplot as plt             #visualisation\n",
    "import os\n",
    "from sklearn import preprocessing \n",
    "\n",
    "%matplotlib inline     \n",
    "sns.set(color_codes=True)"
   ]
  },
  {
   "cell_type": "markdown",
   "source": [
    "RQ3: Does the distance of an Airbnb property from the city’s 5 highest rated attractions (as per trip advisor) affect the likelihood of it being vacant?"
   ],
   "metadata": {
    "collapsed": false
   },
   "id": "557aecb9737d856"
  },
  {
   "cell_type": "code",
   "outputs": [
    {
     "data": {
      "text/plain": "       id                          listing_url       scrape_id last_scraped  \\\n0  198258  https://www.airbnb.com/rooms/198258  20231210055232   2023-12-10   \n1   33332   https://www.airbnb.com/rooms/33332  20231210055232   2023-12-10   \n2   42010   https://www.airbnb.com/rooms/42010  20231210055232   2023-12-10   \n3  284603  https://www.airbnb.com/rooms/284603  20231210055232   2023-12-11   \n4   89870   https://www.airbnb.com/rooms/89870  20231210055232   2023-12-10   \n5  326146  https://www.airbnb.com/rooms/326146  20231210055232   2023-12-13   \n6   96052   https://www.airbnb.com/rooms/96052  20231210055232   2023-12-10   \n7  381467  https://www.airbnb.com/rooms/381467  20231210055232   2023-12-11   \n8  390987  https://www.airbnb.com/rooms/390987  20231210055232   2023-12-10   \n9  394755  https://www.airbnb.com/rooms/394755  20231210055232   2023-12-11   \n\n            source                                               name  \\\n0      city scrape  Rental unit in Barking · ★4.74 · 1 bedroom · 1...   \n1      city scrape  Home in  St Margaret's, Isleworth · ★4.40 · 1 ...   \n2      city scrape  Home in East Finchley · ★4.88 · 1 bedroom · 1 ...   \n3  previous scrape  Rental unit in London · ★4.83 · 1 bedroom · 1 ...   \n4      city scrape  Rental unit in London · ★4.65 · 1 bedroom · 1 ...   \n5  previous scrape          Rental unit in London · 1 bedroom · 1 bed   \n6      city scrape  Condo in London · ★4.82 · 2 bedrooms · 1 bed ·...   \n7  previous scrape  Rental unit in London · ★4.66 · 2 bedrooms · 2...   \n8      city scrape  Home in London · ★4.73 · 8 bedrooms · 1 bed · ...   \n9  previous scrape  Rental unit in London · 2 bedrooms · 2 beds · ...   \n\n   description                              neighborhood_overview  \\\n0          NaN  I live in Barking town centre, at one time the...   \n1          NaN                             Peaceful and friendly.   \n2          NaN  We have a unique cinema called the Phoenix whi...   \n3          NaN                                                NaN   \n4          NaN  Finsbury Park is a friendly melting pot commun...   \n5          NaN                                                NaN   \n6          NaN  Residential, quiet and green neighbourhood wit...   \n7          NaN  Peaceful and quite with beautiful tree lined s...   \n8          NaN  The neighbourhood is safe and many new cafes a...   \n9          NaN                                                NaN   \n\n                                         picture_url  host_id  ...  \\\n0  https://a0.muscache.com/pictures/airflow/Hosti...   967537  ...   \n1  https://a0.muscache.com/pictures/miso/Hosting-...   144444  ...   \n2  https://a0.muscache.com/pictures/airflow/Hosti...   157884  ...   \n3  https://a0.muscache.com/pictures/3246231/8e9b1...  1481851  ...   \n4  https://a0.muscache.com/pictures/miso/Hosting-...    54730  ...   \n5  https://a0.muscache.com/pictures/3536712/9c7a9...  1667975  ...   \n6  https://a0.muscache.com/pictures/airflow/Hosti...   448154  ...   \n7  https://a0.muscache.com/pictures/4700556/fcce1...  1913410  ...   \n8  https://a0.muscache.com/pictures/8841768/8130b...  1955537  ...   \n9  https://a0.muscache.com/pictures/2b043814-44d7...  1973515  ...   \n\n  review_scores_communication review_scores_location review_scores_value  \\\n0                        4.88                   4.45                4.68   \n1                        4.53                   4.68                4.26   \n2                        4.95                   4.73                4.87   \n3                        5.00                   5.00                4.83   \n4                        4.91                   4.73                4.50   \n5                         NaN                    NaN                 NaN   \n6                        4.90                   4.45                4.70   \n7                        4.82                   4.88                4.64   \n8                        4.83                   4.75                4.75   \n9                        5.00                   5.00                4.00   \n\n  license instant_bookable calculated_host_listings_count  \\\n0     NaN                f                              1   \n1     NaN                f                              2   \n2     NaN                t                              2   \n3     NaN                f                              1   \n4     NaN                f                              3   \n5     NaN                f                              1   \n6     NaN                f                              2   \n7     NaN                f                              1   \n8     NaN                f                              3   \n9     NaN                f                              1   \n\n  calculated_host_listings_count_entire_homes  \\\n0                                           0   \n1                                           0   \n2                                           0   \n3                                           1   \n4                                           2   \n5                                           0   \n6                                           0   \n7                                           1   \n8                                           0   \n9                                           1   \n\n  calculated_host_listings_count_private_rooms  \\\n0                                            1   \n1                                            2   \n2                                            2   \n3                                            0   \n4                                            1   \n5                                            1   \n6                                            2   \n7                                            0   \n8                                            3   \n9                                            0   \n\n  calculated_host_listings_count_shared_rooms reviews_per_month  \n0                                           0              0.27  \n1                                           0              0.12  \n2                                           0              3.45  \n3                                           0              0.04  \n4                                           0              0.89  \n5                                           0               NaN  \n6                                           0              0.52  \n7                                           0              1.86  \n8                                           0              0.09  \n9                                           0              0.01  \n\n[10 rows x 75 columns]",
      "text/html": "<div>\n<style scoped>\n    .dataframe tbody tr th:only-of-type {\n        vertical-align: middle;\n    }\n\n    .dataframe tbody tr th {\n        vertical-align: top;\n    }\n\n    .dataframe thead th {\n        text-align: right;\n    }\n</style>\n<table border=\"1\" class=\"dataframe\">\n  <thead>\n    <tr style=\"text-align: right;\">\n      <th></th>\n      <th>id</th>\n      <th>listing_url</th>\n      <th>scrape_id</th>\n      <th>last_scraped</th>\n      <th>source</th>\n      <th>name</th>\n      <th>description</th>\n      <th>neighborhood_overview</th>\n      <th>picture_url</th>\n      <th>host_id</th>\n      <th>...</th>\n      <th>review_scores_communication</th>\n      <th>review_scores_location</th>\n      <th>review_scores_value</th>\n      <th>license</th>\n      <th>instant_bookable</th>\n      <th>calculated_host_listings_count</th>\n      <th>calculated_host_listings_count_entire_homes</th>\n      <th>calculated_host_listings_count_private_rooms</th>\n      <th>calculated_host_listings_count_shared_rooms</th>\n      <th>reviews_per_month</th>\n    </tr>\n  </thead>\n  <tbody>\n    <tr>\n      <th>0</th>\n      <td>198258</td>\n      <td>https://www.airbnb.com/rooms/198258</td>\n      <td>20231210055232</td>\n      <td>2023-12-10</td>\n      <td>city scrape</td>\n      <td>Rental unit in Barking · ★4.74 · 1 bedroom · 1...</td>\n      <td>NaN</td>\n      <td>I live in Barking town centre, at one time the...</td>\n      <td>https://a0.muscache.com/pictures/airflow/Hosti...</td>\n      <td>967537</td>\n      <td>...</td>\n      <td>4.88</td>\n      <td>4.45</td>\n      <td>4.68</td>\n      <td>NaN</td>\n      <td>f</td>\n      <td>1</td>\n      <td>0</td>\n      <td>1</td>\n      <td>0</td>\n      <td>0.27</td>\n    </tr>\n    <tr>\n      <th>1</th>\n      <td>33332</td>\n      <td>https://www.airbnb.com/rooms/33332</td>\n      <td>20231210055232</td>\n      <td>2023-12-10</td>\n      <td>city scrape</td>\n      <td>Home in  St Margaret's, Isleworth · ★4.40 · 1 ...</td>\n      <td>NaN</td>\n      <td>Peaceful and friendly.</td>\n      <td>https://a0.muscache.com/pictures/miso/Hosting-...</td>\n      <td>144444</td>\n      <td>...</td>\n      <td>4.53</td>\n      <td>4.68</td>\n      <td>4.26</td>\n      <td>NaN</td>\n      <td>f</td>\n      <td>2</td>\n      <td>0</td>\n      <td>2</td>\n      <td>0</td>\n      <td>0.12</td>\n    </tr>\n    <tr>\n      <th>2</th>\n      <td>42010</td>\n      <td>https://www.airbnb.com/rooms/42010</td>\n      <td>20231210055232</td>\n      <td>2023-12-10</td>\n      <td>city scrape</td>\n      <td>Home in East Finchley · ★4.88 · 1 bedroom · 1 ...</td>\n      <td>NaN</td>\n      <td>We have a unique cinema called the Phoenix whi...</td>\n      <td>https://a0.muscache.com/pictures/airflow/Hosti...</td>\n      <td>157884</td>\n      <td>...</td>\n      <td>4.95</td>\n      <td>4.73</td>\n      <td>4.87</td>\n      <td>NaN</td>\n      <td>t</td>\n      <td>2</td>\n      <td>0</td>\n      <td>2</td>\n      <td>0</td>\n      <td>3.45</td>\n    </tr>\n    <tr>\n      <th>3</th>\n      <td>284603</td>\n      <td>https://www.airbnb.com/rooms/284603</td>\n      <td>20231210055232</td>\n      <td>2023-12-11</td>\n      <td>previous scrape</td>\n      <td>Rental unit in London · ★4.83 · 1 bedroom · 1 ...</td>\n      <td>NaN</td>\n      <td>NaN</td>\n      <td>https://a0.muscache.com/pictures/3246231/8e9b1...</td>\n      <td>1481851</td>\n      <td>...</td>\n      <td>5.00</td>\n      <td>5.00</td>\n      <td>4.83</td>\n      <td>NaN</td>\n      <td>f</td>\n      <td>1</td>\n      <td>1</td>\n      <td>0</td>\n      <td>0</td>\n      <td>0.04</td>\n    </tr>\n    <tr>\n      <th>4</th>\n      <td>89870</td>\n      <td>https://www.airbnb.com/rooms/89870</td>\n      <td>20231210055232</td>\n      <td>2023-12-10</td>\n      <td>city scrape</td>\n      <td>Rental unit in London · ★4.65 · 1 bedroom · 1 ...</td>\n      <td>NaN</td>\n      <td>Finsbury Park is a friendly melting pot commun...</td>\n      <td>https://a0.muscache.com/pictures/miso/Hosting-...</td>\n      <td>54730</td>\n      <td>...</td>\n      <td>4.91</td>\n      <td>4.73</td>\n      <td>4.50</td>\n      <td>NaN</td>\n      <td>f</td>\n      <td>3</td>\n      <td>2</td>\n      <td>1</td>\n      <td>0</td>\n      <td>0.89</td>\n    </tr>\n    <tr>\n      <th>5</th>\n      <td>326146</td>\n      <td>https://www.airbnb.com/rooms/326146</td>\n      <td>20231210055232</td>\n      <td>2023-12-13</td>\n      <td>previous scrape</td>\n      <td>Rental unit in London · 1 bedroom · 1 bed</td>\n      <td>NaN</td>\n      <td>NaN</td>\n      <td>https://a0.muscache.com/pictures/3536712/9c7a9...</td>\n      <td>1667975</td>\n      <td>...</td>\n      <td>NaN</td>\n      <td>NaN</td>\n      <td>NaN</td>\n      <td>NaN</td>\n      <td>f</td>\n      <td>1</td>\n      <td>0</td>\n      <td>1</td>\n      <td>0</td>\n      <td>NaN</td>\n    </tr>\n    <tr>\n      <th>6</th>\n      <td>96052</td>\n      <td>https://www.airbnb.com/rooms/96052</td>\n      <td>20231210055232</td>\n      <td>2023-12-10</td>\n      <td>city scrape</td>\n      <td>Condo in London · ★4.82 · 2 bedrooms · 1 bed ·...</td>\n      <td>NaN</td>\n      <td>Residential, quiet and green neighbourhood wit...</td>\n      <td>https://a0.muscache.com/pictures/airflow/Hosti...</td>\n      <td>448154</td>\n      <td>...</td>\n      <td>4.90</td>\n      <td>4.45</td>\n      <td>4.70</td>\n      <td>NaN</td>\n      <td>f</td>\n      <td>2</td>\n      <td>0</td>\n      <td>2</td>\n      <td>0</td>\n      <td>0.52</td>\n    </tr>\n    <tr>\n      <th>7</th>\n      <td>381467</td>\n      <td>https://www.airbnb.com/rooms/381467</td>\n      <td>20231210055232</td>\n      <td>2023-12-11</td>\n      <td>previous scrape</td>\n      <td>Rental unit in London · ★4.66 · 2 bedrooms · 2...</td>\n      <td>NaN</td>\n      <td>Peaceful and quite with beautiful tree lined s...</td>\n      <td>https://a0.muscache.com/pictures/4700556/fcce1...</td>\n      <td>1913410</td>\n      <td>...</td>\n      <td>4.82</td>\n      <td>4.88</td>\n      <td>4.64</td>\n      <td>NaN</td>\n      <td>f</td>\n      <td>1</td>\n      <td>1</td>\n      <td>0</td>\n      <td>0</td>\n      <td>1.86</td>\n    </tr>\n    <tr>\n      <th>8</th>\n      <td>390987</td>\n      <td>https://www.airbnb.com/rooms/390987</td>\n      <td>20231210055232</td>\n      <td>2023-12-10</td>\n      <td>city scrape</td>\n      <td>Home in London · ★4.73 · 8 bedrooms · 1 bed · ...</td>\n      <td>NaN</td>\n      <td>The neighbourhood is safe and many new cafes a...</td>\n      <td>https://a0.muscache.com/pictures/8841768/8130b...</td>\n      <td>1955537</td>\n      <td>...</td>\n      <td>4.83</td>\n      <td>4.75</td>\n      <td>4.75</td>\n      <td>NaN</td>\n      <td>f</td>\n      <td>3</td>\n      <td>0</td>\n      <td>3</td>\n      <td>0</td>\n      <td>0.09</td>\n    </tr>\n    <tr>\n      <th>9</th>\n      <td>394755</td>\n      <td>https://www.airbnb.com/rooms/394755</td>\n      <td>20231210055232</td>\n      <td>2023-12-11</td>\n      <td>previous scrape</td>\n      <td>Rental unit in London · 2 bedrooms · 2 beds · ...</td>\n      <td>NaN</td>\n      <td>NaN</td>\n      <td>https://a0.muscache.com/pictures/2b043814-44d7...</td>\n      <td>1973515</td>\n      <td>...</td>\n      <td>5.00</td>\n      <td>5.00</td>\n      <td>4.00</td>\n      <td>NaN</td>\n      <td>f</td>\n      <td>1</td>\n      <td>1</td>\n      <td>0</td>\n      <td>0</td>\n      <td>0.01</td>\n    </tr>\n  </tbody>\n</table>\n<p>10 rows × 75 columns</p>\n</div>"
     },
     "execution_count": 23,
     "metadata": {},
     "output_type": "execute_result"
    }
   ],
   "source": [
    "path = './../London_data/'\n",
    "\n",
    "listings = pd.read_csv(os.path.join(path, \"listings.csv\"))\n",
    "listings.head(10)"
   ],
   "metadata": {
    "collapsed": false,
    "ExecuteTime": {
     "end_time": "2024-04-10T20:49:05.450485Z",
     "start_time": "2024-04-10T20:49:01.187184Z"
    }
   },
   "id": "1946f5eca239148",
   "execution_count": 23
  },
  {
   "cell_type": "markdown",
   "source": [
    "According to TripAdvisor, these are the top 5 highest rated attractions in London and their geographic position (https://www.tripadvisor.ca/Attractions-g186338-Activities-London_England.html):\n",
    "1. Tower of London - (51.508530, -0.076132)\n",
    "2. The British Museum - (51.518757, -0.126168)\n",
    "3. London Eye - (51.503399, -0.119519)\n",
    "4. National Gallery - (51.508972, -0.128794)\n",
    "5. Tower Bridge - (51.505554, -0.075278)"
   ],
   "metadata": {
    "collapsed": false
   },
   "id": "75858ddf47223cb"
  },
  {
   "cell_type": "code",
   "outputs": [],
   "source": [
    "# Here is the list of attractions in London and their coordinates\n",
    "attract_coords = [(\"Tower_of_London\", (51.508530, -0.076132)),(\"British_Museum\", (51.518757, -0.126168)),(\"London_Eye\", (51.503399, -0.119519)),(\"National_Gallery\", (51.508972, -0.128794)),(\"Tower_Bridge\", (51.505554, -0.075278))]"
   ],
   "metadata": {
    "collapsed": false,
    "ExecuteTime": {
     "end_time": "2024-04-10T20:54:08.964658Z",
     "start_time": "2024-04-10T20:54:08.954655Z"
    }
   },
   "id": "18b114ec8e7b5b0d",
   "execution_count": 26
  },
  {
   "cell_type": "code",
   "outputs": [],
   "source": [
    "EARTH_RADIUS_KM = 6371\n",
    "\n",
    "def to_radians(degrees):\n",
    "    return degrees * math.pi / 180\n",
    "\n",
    "def get_distance(lat1, lon1, lat2, lon2):\n",
    "    r_lat1 = to_radians(lat1)\n",
    "    r_lat2 = to_radians(lat2)\n",
    "    d_lat = to_radians(lat2 - lat1)\n",
    "    d_lon = to_radians(lon2 - lon1)\n",
    "    a = ((math.sin(d_lat / 2) ** 2) +\n",
    "         (math.cos(r_lat1) * math.cos(r_lat2) * (math.sin(d_lon / 2) ** 2)))\n",
    "    c = 2 * math.atan2(math.sqrt(a), math.sqrt(1 - a))\n",
    "    return EARTH_RADIUS_KM * c"
   ],
   "metadata": {
    "collapsed": false,
    "ExecuteTime": {
     "end_time": "2024-04-10T20:54:13.079509Z",
     "start_time": "2024-04-10T20:54:13.070238Z"
    }
   },
   "id": "d9842246cb78b328",
   "execution_count": 27
  },
  {
   "cell_type": "markdown",
   "source": [
    "Feature Engineering"
   ],
   "metadata": {
    "collapsed": false
   },
   "id": "998adf1e3efc38c8"
  },
  {
   "cell_type": "code",
   "outputs": [
    {
     "name": "stdout",
     "output_type": "stream",
     "text": [
      "                       id                                      listing_url  \\\n",
      "0                  198258              https://www.airbnb.com/rooms/198258   \n",
      "1                   33332               https://www.airbnb.com/rooms/33332   \n",
      "2                   42010               https://www.airbnb.com/rooms/42010   \n",
      "3                  284603              https://www.airbnb.com/rooms/284603   \n",
      "4                   89870               https://www.airbnb.com/rooms/89870   \n",
      "...                   ...                                              ...   \n",
      "91773  950589815013504257  https://www.airbnb.com/rooms/950589815013504257   \n",
      "91774  951178246905249947  https://www.airbnb.com/rooms/951178246905249947   \n",
      "91775  951188392382129035  https://www.airbnb.com/rooms/951188392382129035   \n",
      "91776  951192793768996976  https://www.airbnb.com/rooms/951192793768996976   \n",
      "91777  952607914901368427  https://www.airbnb.com/rooms/952607914901368427   \n",
      "\n",
      "            scrape_id last_scraped           source  \\\n",
      "0      20231210055232   2023-12-10      city scrape   \n",
      "1      20231210055232   2023-12-10      city scrape   \n",
      "2      20231210055232   2023-12-10      city scrape   \n",
      "3      20231210055232   2023-12-11  previous scrape   \n",
      "4      20231210055232   2023-12-10      city scrape   \n",
      "...               ...          ...              ...   \n",
      "91773  20231210055232   2023-12-11      city scrape   \n",
      "91774  20231210055232   2023-12-10      city scrape   \n",
      "91775  20231210055232   2023-12-11      city scrape   \n",
      "91776  20231210055232   2023-12-10      city scrape   \n",
      "91777  20231210055232   2023-12-10      city scrape   \n",
      "\n",
      "                                                    name  description  \\\n",
      "0      Rental unit in Barking · ★4.74 · 1 bedroom · 1...          NaN   \n",
      "1      Home in  St Margaret's, Isleworth · ★4.40 · 1 ...          NaN   \n",
      "2      Home in East Finchley · ★4.88 · 1 bedroom · 1 ...          NaN   \n",
      "3      Rental unit in London · ★4.83 · 1 bedroom · 1 ...          NaN   \n",
      "4      Rental unit in London · ★4.65 · 1 bedroom · 1 ...          NaN   \n",
      "...                                                  ...          ...   \n",
      "91773  Rental unit in Greater London · 2 bedrooms · 2...          NaN   \n",
      "91774  Rental unit in Greater London · 3 bedrooms · 3...          NaN   \n",
      "91775  Home in Greater London · 4 bedrooms · 4 beds ·...          NaN   \n",
      "91776  Rental unit in Greater London · 1 bedroom · 1 ...          NaN   \n",
      "91777  Condo in Greater London · ★3.89 · 1 bedroom · ...          NaN   \n",
      "\n",
      "                                   neighborhood_overview  \\\n",
      "0      I live in Barking town centre, at one time the...   \n",
      "1                                 Peaceful and friendly.   \n",
      "2      We have a unique cinema called the Phoenix whi...   \n",
      "3                                                    NaN   \n",
      "4      Finsbury Park is a friendly melting pot commun...   \n",
      "...                                                  ...   \n",
      "91773  Located at the center of London, Chelsea is wh...   \n",
      "91774                                                NaN   \n",
      "91775                                                NaN   \n",
      "91776                                                NaN   \n",
      "91777                                                NaN   \n",
      "\n",
      "                                             picture_url    host_id  ...  \\\n",
      "0      https://a0.muscache.com/pictures/airflow/Hosti...     967537  ...   \n",
      "1      https://a0.muscache.com/pictures/miso/Hosting-...     144444  ...   \n",
      "2      https://a0.muscache.com/pictures/airflow/Hosti...     157884  ...   \n",
      "3      https://a0.muscache.com/pictures/3246231/8e9b1...    1481851  ...   \n",
      "4      https://a0.muscache.com/pictures/miso/Hosting-...      54730  ...   \n",
      "...                                                  ...        ...  ...   \n",
      "91773  https://a0.muscache.com/pictures/miso/Hosting-...  501508071  ...   \n",
      "91774  https://a0.muscache.com/pictures/miso/Hosting-...  211074697  ...   \n",
      "91775  https://a0.muscache.com/pictures/b4758d11-e7dd...  526113148  ...   \n",
      "91776  https://a0.muscache.com/pictures/miso/Hosting-...   56125082  ...   \n",
      "91777  https://a0.muscache.com/pictures/8db8130e-9f93...  513281832  ...   \n",
      "\n",
      "      calculated_host_listings_count  \\\n",
      "0                                  1   \n",
      "1                                  2   \n",
      "2                                  2   \n",
      "3                                  1   \n",
      "4                                  3   \n",
      "...                              ...   \n",
      "91773                             31   \n",
      "91774                              7   \n",
      "91775                              2   \n",
      "91776                              1   \n",
      "91777                              6   \n",
      "\n",
      "      calculated_host_listings_count_entire_homes  \\\n",
      "0                                               0   \n",
      "1                                               0   \n",
      "2                                               0   \n",
      "3                                               1   \n",
      "4                                               2   \n",
      "...                                           ...   \n",
      "91773                                          31   \n",
      "91774                                           7   \n",
      "91775                                           2   \n",
      "91776                                           0   \n",
      "91777                                           6   \n",
      "\n",
      "      calculated_host_listings_count_private_rooms  \\\n",
      "0                                                1   \n",
      "1                                                2   \n",
      "2                                                2   \n",
      "3                                                0   \n",
      "4                                                1   \n",
      "...                                            ...   \n",
      "91773                                            0   \n",
      "91774                                            0   \n",
      "91775                                            0   \n",
      "91776                                            1   \n",
      "91777                                            0   \n",
      "\n",
      "      calculated_host_listings_count_shared_rooms reviews_per_month  \\\n",
      "0                                               0              0.27   \n",
      "1                                               0              0.12   \n",
      "2                                               0              3.45   \n",
      "3                                               0              0.04   \n",
      "4                                               0              0.89   \n",
      "...                                           ...               ...   \n",
      "91773                                           0               NaN   \n",
      "91774                                           0              0.57   \n",
      "91775                                           0              0.70   \n",
      "91776                                           0               NaN   \n",
      "91777                                           0              2.73   \n",
      "\n",
      "      Tower_of_London_Distance British_Museum_Distance London_Eye_Distance  \\\n",
      "0                    11.295125               14.489319           14.345810   \n",
      "1                    17.924811               15.046489           14.883144   \n",
      "2                    10.545982                7.918725            9.683154   \n",
      "3                     8.601662                5.132039            5.711060   \n",
      "4                     7.036358                5.563169            7.197169   \n",
      "...                        ...                     ...                 ...   \n",
      "91773                 6.735626                4.470439            3.748785   \n",
      "91774                 4.118283                4.368621            2.608369   \n",
      "91775                 7.976929                5.868192            5.067905   \n",
      "91776                10.462845                7.843495            9.608462   \n",
      "91777                 1.985863                2.065491            2.528202   \n",
      "\n",
      "      National_Gallery_Distance Tower_Bridge_Distance  \n",
      "0                     14.838821             11.327221  \n",
      "1                     14.471457             17.894117  \n",
      "2                      8.900139             10.851149  \n",
      "3                      4.970523              8.693079  \n",
      "4                      6.666080              7.367585  \n",
      "...                         ...                   ...  \n",
      "91773                  3.563986              6.687128  \n",
      "91774                  3.355542              3.911399  \n",
      "91775                  4.949741              7.898112  \n",
      "91776                  8.827399             10.768245  \n",
      "91777                  2.605944              2.268780  \n",
      "\n",
      "[91778 rows x 80 columns]\n"
     ]
    }
   ],
   "source": [
    "# Create new features to measure the distance between each property listing and each tourist attraction\n",
    "for attract_name, attract_coord in attract_coords:\n",
    "    # Calculate distance for each attraction\n",
    "    listings[attract_name + '_Distance'] = listings.apply(\n",
    "        lambda row: get_distance(row['latitude'], row['longitude'], attract_coord[0], attract_coord[1]),\n",
    "        axis=1\n",
    "    )"
   ],
   "metadata": {
    "collapsed": false,
    "ExecuteTime": {
     "end_time": "2024-04-10T21:02:01.533593Z",
     "start_time": "2024-04-10T21:01:50.237401Z"
    }
   },
   "id": "b3483f254ac5e0a8",
   "execution_count": 28
  }
 ],
 "metadata": {
  "kernelspec": {
   "display_name": "Python 3",
   "language": "python",
   "name": "python3"
  },
  "language_info": {
   "codemirror_mode": {
    "name": "ipython",
    "version": 2
   },
   "file_extension": ".py",
   "mimetype": "text/x-python",
   "name": "python",
   "nbconvert_exporter": "python",
   "pygments_lexer": "ipython2",
   "version": "2.7.6"
  }
 },
 "nbformat": 4,
 "nbformat_minor": 5
}
