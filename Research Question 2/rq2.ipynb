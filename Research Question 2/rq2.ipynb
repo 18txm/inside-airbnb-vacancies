{
 "cells": [
  {
   "cell_type": "code",
   "execution_count": null,
   "metadata": {},
   "outputs": [],
   "source": [
    "import pandas as pd\n",
    "import numpy as np\n",
    "import seaborn as sns           \n",
    "import matplotlib\n",
    "import matplotlib.pyplot as plt  \n",
    "import os\n",
    "from sklearn import preprocessing \n",
    "from sklearn.ensemble import GradientBoostingRegressor\n",
    "from sklearn.model_selection import train_test_split\n",
    "from sklearn.metrics import mean_squared_error\n",
    "\n",
    "%matplotlib inline     \n",
    "sns.set(color_codes=True)"
   ]
  },
  {
   "cell_type": "code",
   "execution_count": null,
   "metadata": {},
   "outputs": [],
   "source": [
    "carsons_path = 'C:\\\\Users\\\\Carson\\\\Desktop\\\\cmpe351'\n",
    "# carsons_path = \"C:\\\\Users\\\\thoma\\\\Desktop\\\\Data Airbnb\"\n",
    "\n",
    "listings = pd.read_csv(os.path.join(carsons_path, \"listings.csv\"))\n",
    "sum_listings = pd.read_csv(os.path.join(carsons_path, \"listings summary.csv\"))\n",
    "sum_nbhd = pd.read_csv(os.path.join(carsons_path, \"neighbourhoods summary.csv\"))\n",
    "sum_rev = pd.read_csv(os.path.join(carsons_path, \"reviews summary.csv\"))\n",
    "revs = pd.read_csv(os.path.join(carsons_path, \"reviews.csv\"))\n"
   ]
  },
  {
   "cell_type": "markdown",
   "metadata": {},
   "source": [
    "minimum_nights              minimum number of night stay for the listing (calendar rules may be different)\n",
    "minimum_minimum_nights      the smallest minimum_night value from the calender (looking 365 nights in the future)\n",
    "maximum_minimum_nights      the largest minimum_night value from the calender (looking 365 nights in the future)\n",
    "minimum_nights_avg_ntm      the average minimum_night value from the calender (looking 365 nights in the future)"
   ]
  },
  {
   "cell_type": "markdown",
   "metadata": {},
   "source": [
    "### RQ2: How does the minimum number of nights that customers must book affect the likelihood of a property being vacant?"
   ]
  },
  {
   "cell_type": "markdown",
   "metadata": {},
   "source": []
  },
  {
   "cell_type": "code",
   "execution_count": null,
   "metadata": {},
   "outputs": [],
   "source": [
    "sum_nbhd.columns"
   ]
  },
  {
   "cell_type": "code",
   "execution_count": null,
   "metadata": {},
   "outputs": [],
   "source": [
    "sum_listings"
   ]
  },
  {
   "cell_type": "code",
   "execution_count": null,
   "metadata": {},
   "outputs": [],
   "source": [
    "sum_rev"
   ]
  },
  {
   "cell_type": "code",
   "execution_count": null,
   "metadata": {},
   "outputs": [],
   "source": [
    "revs"
   ]
  },
  {
   "cell_type": "code",
   "execution_count": null,
   "metadata": {},
   "outputs": [],
   "source": [
    "print(listings.columns)"
   ]
  },
  {
   "cell_type": "code",
   "execution_count": null,
   "metadata": {},
   "outputs": [],
   "source": [
    "listings['host_is_superhost'].head(5)"
   ]
  },
  {
   "cell_type": "code",
   "execution_count": null,
   "metadata": {},
   "outputs": [],
   "source": [
    "sum_nbhd.head()"
   ]
  },
  {
   "cell_type": "code",
   "execution_count": null,
   "metadata": {},
   "outputs": [],
   "source": [
    "sum_rev.head()"
   ]
  },
  {
   "cell_type": "code",
   "execution_count": null,
   "metadata": {},
   "outputs": [],
   "source": [
    "revs.head()"
   ]
  },
  {
   "cell_type": "code",
   "execution_count": null,
   "metadata": {},
   "outputs": [],
   "source": [
    "listings['minimum_minimum_nights']"
   ]
  },
  {
   "cell_type": "code",
   "execution_count": null,
   "metadata": {},
   "outputs": [],
   "source": [
    "listings['minimum_nights']"
   ]
  },
  {
   "cell_type": "code",
   "execution_count": null,
   "metadata": {},
   "outputs": [],
   "source": [
    "(listings['minimum_minimum_nights']-listings['minimum_nights']).describe()"
   ]
  },
  {
   "cell_type": "code",
   "execution_count": null,
   "metadata": {},
   "outputs": [],
   "source": [
    "columns = ['minimum_nights', 'maximum_nights', 'minimum_minimum_nights',\n",
    "       'maximum_minimum_nights', 'minimum_maximum_nights',\n",
    "       'maximum_maximum_nights', 'minimum_nights_avg_ntm',\n",
    "       'maximum_nights_avg_ntm', 'has_availability',\n",
    "       'availability_30', 'availability_60', 'availability_90',\n",
    "       'availability_365']"
   ]
  },
  {
   "cell_type": "code",
   "execution_count": null,
   "metadata": {},
   "outputs": [],
   "source": [
    "pd.DataFrame.hist(data = sum_listings[sum_listings['minimum_nights']<21], column='minimum_nights', bins=10)"
   ]
  },
  {
   "cell_type": "code",
   "execution_count": null,
   "metadata": {},
   "outputs": [],
   "source": [
    "pd.DataFrame.hist(data = listings[listings['calculated_host_listings_count']>1], column='calculated_host_listings_count', bins=10)"
   ]
  },
  {
   "cell_type": "code",
   "execution_count": null,
   "metadata": {},
   "outputs": [],
   "source": [
    "sum_listings[sum_listings['minimum_nights']>21].count()"
   ]
  },
  {
   "cell_type": "code",
   "execution_count": null,
   "metadata": {},
   "outputs": [],
   "source": [
    "dud_listings =listings[listings['minimum_nights']<21]\n",
    "\n",
    "min_nights = dud_listings['minimum_nights']\n",
    "avail_356 = dud_listings['availability_365']\n",
    "avail_90 = dud_listings['availability_90']\n",
    "avail_60 = dud_listings['availability_60']\n",
    "avail_30 = dud_listings['availability_30']\n",
    "\n",
    "corr_365 = avail_356.corr(min_nights)\n",
    "corr_90 = avail_90.corr(min_nights)\n",
    "corr_60 = avail_60.corr(min_nights)\n",
    "corr_30 = avail_30.corr(min_nights)\n",
    "\n",
    "print(corr_365)\n",
    "print(corr_90)\n",
    "print(corr_60)\n",
    "print(corr_30)"
   ]
  },
  {
   "cell_type": "code",
   "execution_count": null,
   "metadata": {},
   "outputs": [],
   "source": [
    "listings = listings[listings['host_is_superhost'] == 't']\n",
    "len(listings)"
   ]
  },
  {
   "cell_type": "code",
   "execution_count": null,
   "metadata": {},
   "outputs": [],
   "source": [
    "dud_listings = listings[listings['minimum_nights'] > 100]\n",
    "\n",
    "min_nights = dud_listings['minimum_nights']\n",
    "avail_356 = dud_listings['availability_365']\n",
    "avail_90 = dud_listings['availability_90']\n",
    "avail_60 = dud_listings['availability_60']\n",
    "avail_30 = dud_listings['availability_30']\n",
    "\n",
    "corr_365 = avail_356.corr(min_nights)\n",
    "corr_90 = avail_90.corr(min_nights)\n",
    "corr_60 = avail_60.corr(min_nights)\n",
    "corr_30 = avail_30.corr(min_nights)\n",
    "\n",
    "print(corr_365)\n",
    "print(corr_90)\n",
    "print(corr_60)\n",
    "print(corr_30)"
   ]
  },
  {
   "cell_type": "markdown",
   "metadata": {},
   "source": [
    "does not appear to be a substantial correlation between number of minimum nights and availability\n"
   ]
  },
  {
   "cell_type": "code",
   "execution_count": null,
   "metadata": {},
   "outputs": [],
   "source": [
    "unbooked = listings[listings['availability_365'] > 3]\n",
    "unbooked"
   ]
  },
  {
   "cell_type": "code",
   "execution_count": null,
   "metadata": {},
   "outputs": [],
   "source": [
    "one_night = listings[listings['minimum_nights'] == 1]\n",
    "print(len(one_night))\n",
    "one_night = one_night[one_night['availability_365']>3]\n",
    "one_night"
   ]
  },
  {
   "cell_type": "code",
   "execution_count": null,
   "metadata": {},
   "outputs": [],
   "source": [
    "pd.DataFrame.hist(data = listings[listings['minimum_nights']<7], column='availability_365', bins=100)\n"
   ]
  },
  {
   "cell_type": "code",
   "execution_count": null,
   "metadata": {},
   "outputs": [],
   "source": [
    "pd.DataFrame.hist(data = listings[listings['minimum_nights']>7], column='availability_365', bins=100)"
   ]
  },
  {
   "cell_type": "code",
   "execution_count": null,
   "metadata": {},
   "outputs": [],
   "source": [
    "more_than_a_week = listings[listings['minimum_nights']>7]\n",
    "abs(len(more_than_a_week[more_than_a_week['availability_365']>3]) - len(more_than_a_week))/len(more_than_a_week)"
   ]
  },
  {
   "cell_type": "code",
   "execution_count": null,
   "metadata": {},
   "outputs": [],
   "source": [
    "less_than_a_week = listings[listings['minimum_nights']<7]\n",
    "abs(len(less_than_a_week[less_than_a_week['availability_365']<30]) - len(less_than_a_week))/len(less_than_a_week)"
   ]
  },
  {
   "cell_type": "markdown",
   "metadata": {},
   "source": [
    "## Find correlations between vacancy and factors while only looking at datapoints that exist in the middle of the set. i.e exclude all and no vacancy"
   ]
  },
  {
   "cell_type": "code",
   "execution_count": null,
   "metadata": {},
   "outputs": [],
   "source": [
    "df_small = listings[listings['availability_365'] > 60 ]\n",
    "df_small = df_small[df_small['availability_365'] < 305 ]\n",
    "pd.DataFrame.hist(data = df_small, column='availability_365', bins=100)\n"
   ]
  },
  {
   "cell_type": "code",
   "execution_count": null,
   "metadata": {},
   "outputs": [],
   "source": [
    "numeric_cols = df_small.select_dtypes(include=['number'])\n",
    "\n",
    "df_small = df_small.drop(columns=df_small.select_dtypes(exclude=['number']).columns)"
   ]
  },
  {
   "cell_type": "code",
   "execution_count": null,
   "metadata": {},
   "outputs": [],
   "source": [
    "cols = ['id', 'scrape_id', 'description', 'host_id', 'host_listings_count',\n",
    "       'host_total_listings_count', 'neighbourhood_group_cleansed', 'latitude',\n",
    "       'longitude', 'accommodates', 'bathrooms', 'bedrooms', 'beds',\n",
    "       'minimum_nights', 'maximum_nights', 'minimum_minimum_nights',\n",
    "       'maximum_minimum_nights', 'minimum_maximum_nights',\n",
    "       'maximum_maximum_nights', 'minimum_nights_avg_ntm',\n",
    "       'maximum_nights_avg_ntm', 'calendar_updated', 'availability_30',\n",
    "       'availability_60', 'availability_90', 'availability_365',\n",
    "       'number_of_reviews', 'number_of_reviews_ltm', 'number_of_reviews_l30d',\n",
    "       'review_scores_rating', 'review_scores_accuracy',\n",
    "       'review_scores_cleanliness', 'review_scores_checkin',\n",
    "       'review_scores_communication', 'review_scores_location',\n",
    "       'review_scores_value', 'license', 'calculated_host_listings_count',\n",
    "       'calculated_host_listings_count_entire_homes',\n",
    "       'calculated_host_listings_count_private_rooms',\n",
    "       'calculated_host_listings_count_shared_rooms', 'reviews_per_month']\n",
    "\n",
    "for col in cols:\n",
    "    if abs(df_small['availability_365'].corr(df_small[col])) > 0.1:\n",
    "        print('column: ', col)\n",
    "        print('correlation: ', df_small['availability_365'].corr(df_small[col]))"
   ]
  },
  {
   "cell_type": "markdown",
   "metadata": {},
   "source": [
    "these are not promising results, attempt to try classification model"
   ]
  },
  {
   "cell_type": "code",
   "execution_count": null,
   "metadata": {},
   "outputs": [],
   "source": [
    "from sklearn.model_selection import train_test_split\n",
    "from sklearn.tree import DecisionTreeClassifier\n",
    "from sklearn.datasets import make_classification\n",
    "from sklearn.metrics import accuracy_score\n",
    "\n",
    "# listings\n",
    "non_numeric_cols = listings.select_dtypes(exclude=['number'])\n",
    "data = listings.drop(columns=listings.select_dtypes(include=['number']).columns)\n",
    "cols_to_drop = ['last_scraped','amenities','listing_url', 'source', 'name','neighborhood_overview', 'picture_url', 'host_url', 'host_name', 'host_since', 'host_about','host_thumbnail_url', 'host_picture_url','bathrooms_text','calendar_last_scraped', 'first_review', 'last_review']\n",
    "data = data.drop(columns=cols_to_drop)\n",
    "\n",
    "data = pd.get_dummies(data)\n",
    "\n",
    "# Split the data into features (X) and target (y)\n",
    "# X = data.drop('Target_Yes', axis=1)  # Features\n",
    "# y = df['Target_Yes']  # Target variable"
   ]
  },
  {
   "cell_type": "code",
   "execution_count": null,
   "metadata": {},
   "outputs": [],
   "source": [
    "\n",
    "# Split the data into training and testing sets\n",
    "X_train, X_test, y_train, y_test = train_test_split(data, listings['availability_365'], test_size=0.2, random_state=42)\n",
    "\n",
    "# Create a logistic regression model\n",
    "clf = DecisionTreeClassifier()\n",
    "\n",
    "# Train the model on the training data\n",
    "clf.fit(X_train, y_train)\n",
    "\n",
    "# Make predictions on the testing data\n",
    "y_pred = clf.predict(X_test)\n",
    "\n",
    "# Calculate accuracy\n",
    "accuracy = accuracy_score(y_test, y_pred)\n",
    "print(\"Accuracy:\", accuracy)\n"
   ]
  },
  {
   "cell_type": "markdown",
   "metadata": {},
   "source": [
    "a preliminary attempt to use categorical variables does not yield promising results either, try again with smaller df"
   ]
  },
  {
   "cell_type": "code",
   "execution_count": null,
   "metadata": {},
   "outputs": [],
   "source": [
    "df_small = listings[listings['availability_365'] > 60 ]\n",
    "df_small = df_small[df_small['availability_365'] < 305 ]\n",
    "non_numeric_cols = df_small.select_dtypes(exclude=['number'])\n",
    "data = df_small.drop(columns=df_small.select_dtypes(include=['number']).columns)\n",
    "print(data.columns)\n",
    "cols_to_drop = ['last_scraped','amenities','listing_url', 'source', 'name','neighborhood_overview', 'picture_url', 'host_url', 'host_name', 'host_since', 'host_about','host_thumbnail_url', 'host_picture_url','bathrooms_text','calendar_last_scraped', 'first_review', 'last_review']\n",
    "data = data.drop(columns=cols_to_drop)\n",
    "\n",
    "data = pd.get_dummies(data)\n",
    "\n",
    "# Split the data into features (X) and target (y)\n",
    "# X = data.drop('Target_Yes', axis=1)  # Features\n",
    "# y = df['Target_Yes']  # Target variable"
   ]
  },
  {
   "cell_type": "code",
   "execution_count": null,
   "metadata": {},
   "outputs": [],
   "source": [
    "X_train, X_test, y_train, y_test = train_test_split(data, df_small['availability_365'], test_size=0.2, random_state=42)\n",
    "\n",
    "# Create a logistic regression model\n",
    "clf = DecisionTreeClassifier()\n",
    "\n",
    "# Train the model on the training data\n",
    "clf.fit(X_train, y_train)\n",
    "\n",
    "# Make predictions on the testing data\n",
    "y_pred = clf.predict(X_test)\n",
    "\n",
    "# Calculate accuracy\n",
    "accuracy = accuracy_score(y_test, y_pred)\n",
    "print(\"Accuracy:\", accuracy)\n"
   ]
  },
  {
   "cell_type": "markdown",
   "metadata": {},
   "source": [
    "did wayyyy worse, that is also bad"
   ]
  },
  {
   "cell_type": "code",
   "execution_count": null,
   "metadata": {},
   "outputs": [],
   "source": [
    "pd.DataFrame.hist(data = listings, column='availability_365', bins=100)"
   ]
  },
  {
   "cell_type": "markdown",
   "metadata": {},
   "source": [
    "## Observe there is some recurrence here, at pseudo approximate intervals there is some normality, attempt to extract this"
   ]
  },
  {
   "cell_type": "code",
   "execution_count": null,
   "metadata": {},
   "outputs": [],
   "source": [
    "df_50_to_100 = listings[listings['availability_365'] > 50 ]\n",
    "df_50_to_100 = df_50_to_100[df_50_to_100['availability_365'] < 100 ]\n",
    "pd.DataFrame.hist(data = df_50_to_100, column='availability_365', bins=20)"
   ]
  },
  {
   "cell_type": "code",
   "execution_count": null,
   "metadata": {},
   "outputs": [],
   "source": [
    "df_125_to_200 = listings[listings['availability_365'] > 125 ]\n",
    "df_125_to_200 = df_125_to_200[df_125_to_200['availability_365'] < 200 ]\n",
    "pd.DataFrame.hist(data = df_125_to_200, column='availability_365', bins=20)"
   ]
  },
  {
   "cell_type": "code",
   "execution_count": null,
   "metadata": {},
   "outputs": [],
   "source": [
    "df_225_to_300 = listings[listings['availability_365'] > 225 ]\n",
    "df_225_to_300 = df_225_to_300[df_225_to_300['availability_365'] < 300 ]\n",
    "pd.DataFrame.hist(data = df_225_to_300, column='availability_365', bins=20)"
   ]
  },
  {
   "cell_type": "markdown",
   "metadata": {},
   "source": [
    "not quite as normal as expected, will still look into correlations"
   ]
  },
  {
   "cell_type": "code",
   "execution_count": null,
   "metadata": {},
   "outputs": [],
   "source": [
    "cols = ['id', 'scrape_id', 'description', 'host_id', 'host_listings_count',\n",
    "       'host_total_listings_count', 'neighbourhood_group_cleansed', 'latitude',\n",
    "       'longitude', 'accommodates', 'bathrooms', 'bedrooms', 'beds',\n",
    "       'minimum_nights', 'maximum_nights', 'minimum_minimum_nights',\n",
    "       'maximum_minimum_nights', 'minimum_maximum_nights',\n",
    "       'maximum_maximum_nights', 'minimum_nights_avg_ntm',\n",
    "       'maximum_nights_avg_ntm', 'calendar_updated', 'availability_30',\n",
    "       'availability_60', 'availability_90', 'availability_365',\n",
    "       'number_of_reviews', 'number_of_reviews_ltm', 'number_of_reviews_l30d',\n",
    "       'review_scores_rating', 'review_scores_accuracy',\n",
    "       'review_scores_cleanliness', 'review_scores_checkin',\n",
    "       'review_scores_communication', 'review_scores_location',\n",
    "       'review_scores_value', 'license', 'calculated_host_listings_count',\n",
    "       'calculated_host_listings_count_entire_homes',\n",
    "       'calculated_host_listings_count_private_rooms',\n",
    "       'calculated_host_listings_count_shared_rooms', 'reviews_per_month']\n",
    "\n",
    "\n",
    "for col in cols:\n",
    "    if abs(df_50_to_100['availability_365'].corr(df_50_to_100[col])) > 0.1:\n",
    "        print('column: ', col)\n",
    "        print('correlation: ', df_50_to_100['availability_365'].corr(df_50_to_100[col]))"
   ]
  },
  {
   "cell_type": "code",
   "execution_count": null,
   "metadata": {},
   "outputs": [],
   "source": [
    "cols = ['id', 'scrape_id', 'description', 'host_id', 'host_listings_count',\n",
    "       'host_total_listings_count', 'neighbourhood_group_cleansed', 'latitude',\n",
    "       'longitude', 'accommodates', 'bathrooms', 'bedrooms', 'beds',\n",
    "       'minimum_nights', 'maximum_nights', 'minimum_minimum_nights',\n",
    "       'maximum_minimum_nights', 'minimum_maximum_nights',\n",
    "       'maximum_maximum_nights', 'minimum_nights_avg_ntm',\n",
    "       'maximum_nights_avg_ntm', 'calendar_updated', 'availability_30',\n",
    "       'availability_60', 'availability_90', 'availability_365',\n",
    "       'number_of_reviews', 'number_of_reviews_ltm', 'number_of_reviews_l30d',\n",
    "       'review_scores_rating', 'review_scores_accuracy',\n",
    "       'review_scores_cleanliness', 'review_scores_checkin',\n",
    "       'review_scores_communication', 'review_scores_location',\n",
    "       'review_scores_value', 'license', 'calculated_host_listings_count',\n",
    "       'calculated_host_listings_count_entire_homes',\n",
    "       'calculated_host_listings_count_private_rooms',\n",
    "       'calculated_host_listings_count_shared_rooms', 'reviews_per_month']\n",
    "\n",
    "for col in cols:\n",
    "    if abs(df_125_to_200['availability_365'].corr(df_125_to_200[col])) > 0.1:\n",
    "        print('column: ', col)\n",
    "        print('correlation: ', df_125_to_200['availability_365'].corr(df_125_to_200[col]))"
   ]
  },
  {
   "cell_type": "code",
   "execution_count": null,
   "metadata": {},
   "outputs": [],
   "source": [
    "cols = ['id', 'scrape_id', 'description', 'host_id', 'host_listings_count',\n",
    "       'host_total_listings_count', 'neighbourhood_group_cleansed', 'latitude',\n",
    "       'longitude', 'accommodates', 'bathrooms', 'bedrooms', 'beds',\n",
    "       'minimum_nights', 'maximum_nights', 'minimum_minimum_nights',\n",
    "       'maximum_minimum_nights', 'minimum_maximum_nights',\n",
    "       'maximum_maximum_nights', 'minimum_nights_avg_ntm',\n",
    "       'maximum_nights_avg_ntm', 'calendar_updated', 'availability_30',\n",
    "       'availability_60', 'availability_90', 'availability_365',\n",
    "       'number_of_reviews', 'number_of_reviews_ltm', 'number_of_reviews_l30d',\n",
    "       'review_scores_rating', 'review_scores_accuracy',\n",
    "       'review_scores_cleanliness', 'review_scores_checkin',\n",
    "       'review_scores_communication', 'review_scores_location',\n",
    "       'review_scores_value', 'license', 'calculated_host_listings_count',\n",
    "       'calculated_host_listings_count_entire_homes',\n",
    "       'calculated_host_listings_count_private_rooms',\n",
    "       'calculated_host_listings_count_shared_rooms', 'reviews_per_month']\n",
    "\n",
    "tempCols = ['id', 'scrape_id', 'description', 'host_id', 'host_listings_count',\n",
    "       'host_total_listings_count', 'neighbourhood_group_cleansed', 'latitude',\n",
    "       'longitude', 'accommodates', 'bathrooms', 'bedrooms', 'beds',\n",
    "       'calendar_updated', 'number_of_reviews', 'number_of_reviews_ltm', 'number_of_reviews_l30d',\n",
    "       'review_scores_rating', 'review_scores_accuracy',\n",
    "       'review_scores_cleanliness', 'review_scores_checkin',\n",
    "       'review_scores_communication', 'review_scores_location',\n",
    "       'review_scores_value', 'license', 'calculated_host_listings_count',\n",
    "       'calculated_host_listings_count_entire_homes',\n",
    "       'calculated_host_listings_count_private_rooms',\n",
    "       'calculated_host_listings_count_shared_rooms', 'reviews_per_month']\n",
    "\n",
    "\n",
    "for col in cols:\n",
    "    if abs(df_225_to_300['availability_365'].corr(df_225_to_300[col])) > 0.1:\n",
    "        print('column: ', col)\n",
    "        print('correlation: ', df_225_to_300['availability_365'].corr(df_225_to_300[col]))"
   ]
  },
  {
   "cell_type": "markdown",
   "metadata": {},
   "source": [
    "no bueno, lets try to extract some date features"
   ]
  },
  {
   "cell_type": "code",
   "execution_count": null,
   "metadata": {},
   "outputs": [],
   "source": [
    "listings.columns"
   ]
  },
  {
   "cell_type": "code",
   "execution_count": null,
   "metadata": {},
   "outputs": [],
   "source": [
    "listings.head()"
   ]
  },
  {
   "cell_type": "code",
   "execution_count": null,
   "metadata": {},
   "outputs": [],
   "source": [
    "listings['last_review'] = pd.to_datetime(listings['last_review'])\n",
    "listings['calendar_last_scraped'] = pd.to_datetime(listings['calendar_last_scraped'])\n",
    "listings['calendar_updated'] = pd.to_datetime(listings['calendar_updated'])\n",
    "listings['host_since'] = pd.to_datetime(listings['host_since'])\n",
    "listings['last_scraped'] = pd.to_datetime(listings['last_scraped'])\n",
    "listings['first_review'] = pd.to_datetime(listings['first_review'])"
   ]
  },
  {
   "cell_type": "code",
   "execution_count": null,
   "metadata": {},
   "outputs": [],
   "source": [
    "plt.figure(figsize=(8, 12))\n",
    "heatmap = sns.heatmap(listings.drop(columns=tempCols).corr()[['availability_30', 'availability_60', 'availability_90', 'availability_365']], vmin=-1, vmax=1, annot=True, cmap='BrBG')\n",
    "heatmap.set_title('Features Correlating with Availability', fontdict={'fontsize':18}, pad=16);"
   ]
  },
  {
   "cell_type": "code",
   "execution_count": null,
   "metadata": {},
   "outputs": [],
   "source": [
    "cols = ['id', 'listing_url', 'scrape_id', 'last_scraped', 'source', 'name',\n",
    "       'description', 'neighborhood_overview', 'picture_url', 'host_id',\n",
    "       'host_url', 'host_name', 'host_since', 'host_location', 'host_about',\n",
    "       'host_response_time', 'host_response_rate', 'host_acceptance_rate',\n",
    "       'host_is_superhost', 'host_thumbnail_url', 'host_picture_url',\n",
    "       'host_neighbourhood', 'host_listings_count',\n",
    "       'host_total_listings_count', 'host_verifications',\n",
    "       'host_has_profile_pic', 'host_identity_verified', 'neighbourhood',\n",
    "       'neighbourhood_cleansed', 'neighbourhood_group_cleansed', 'latitude',\n",
    "       'longitude', 'property_type', 'room_type', 'accommodates', 'bathrooms',\n",
    "       'bathrooms_text', 'bedrooms', 'beds', 'amenities', 'price',\n",
    "       'maximum_nights','minimum_maximum_nights',\n",
    "       'maximum_maximum_nights',\n",
    "       'maximum_nights_avg_ntm', 'calendar_updated', 'has_availability',\n",
    "       'availability_30', 'availability_60', 'availability_90',\n",
    "       'availability_365', 'calendar_last_scraped', 'number_of_reviews',\n",
    "       'number_of_reviews_ltm', 'number_of_reviews_l30d', 'first_review',\n",
    "       'last_review', 'review_scores_rating', 'review_scores_accuracy',\n",
    "       'review_scores_cleanliness', 'review_scores_checkin',\n",
    "       'review_scores_communication', 'review_scores_location',\n",
    "       'review_scores_value', 'license', 'instant_bookable',\n",
    "    #    'calculated_host_listings_count',\n",
    "       'calculated_host_listings_count_entire_homes',\n",
    "       'calculated_host_listings_count_private_rooms',\n",
    "       'calculated_host_listings_count_shared_rooms', 'reviews_per_month']"
   ]
  },
  {
   "cell_type": "code",
   "execution_count": null,
   "metadata": {},
   "outputs": [],
   "source": [
    "dfs = [listings, df_50_to_100, df_125_to_200, df_225_to_300]\n",
    "targets = ['availability_30', 'availability_60', 'availability_90', 'availability_365']\n",
    "names = ['listings', 'df_50_to_100', 'df_125_to_200', 'df_225_to_300']\n",
    "for i in range(len(dfs)):\n",
    "    for target in targets:\n",
    "        X_train, X_test, y_train, y_test = train_test_split(dfs[i].drop(columns = cols), dfs[i][target], test_size=0.2, random_state=20166925)\n",
    "        gb_regressor = GradientBoostingRegressor(n_estimators=400, max_depth=8, learning_rate=0.1, random_state=42)\n",
    "        gb_regressor.fit(X_train, y_train)\n",
    "\n",
    "            # Predict on the test set\n",
    "        predictions = gb_regressor.predict(X_test)\n",
    "\n",
    "            # Evaluate the model\n",
    "            # mse = mean_squared_error(y_test, predictions)\n",
    "            # print(\"Mean Squared Error:\", mse)\n",
    "\n",
    "            # print(y_test)\n",
    "            # print(len(predictions))\n",
    "            # print(len(df_test))\n",
    "        mse = mean_squared_error(y_test, predictions)**0.5\n",
    "        print('df: ', names[i])\n",
    "        print('target: ', target)\n",
    "        print('MSE: ', mse)"
   ]
  },
  {
   "cell_type": "code",
   "execution_count": null,
   "metadata": {},
   "outputs": [],
   "source": [
    "dfs = [listings, df_50_to_100, df_125_to_200, df_225_to_300]\n",
    "targets = ['availability_30', 'availability_60', 'availability_90', 'availability_365']\n",
    "names = ['listings', 'df_50_to_100', 'df_125_to_200', 'df_225_to_300']\n",
    "for i in range(len(dfs)):\n",
    "    for target in targets:\n",
    "        X_train, X_test, y_train, y_test = train_test_split(dfs[i].drop(columns = cols), dfs[i][target], test_size=0.2, random_state=20166925)\n",
    "        gb_regressor = GradientBoostingRegressor(n_estimators=400, max_depth=8, learning_rate=0.01, random_state=42)\n",
    "        gb_regressor.fit(X_train, y_train)\n",
    "\n",
    "            # Predict on the test set\n",
    "        predictions = gb_regressor.predict(X_test)\n",
    "\n",
    "            # Evaluate the model\n",
    "            # mse = mean_squared_error(y_test, predictions)\n",
    "            # print(\"Mean Squared Error:\", mse)\n",
    "\n",
    "            # print(y_test)\n",
    "            # print(len(predictions))\n",
    "            # print(len(df_test))\n",
    "        mse = mean_squared_error(y_test, predictions)**0.5\n",
    "        print('df: ', names[i])\n",
    "        print('target: ', target)\n",
    "        print('MSE: ', mse)"
   ]
  }
 ],
 "metadata": {
  "kernelspec": {
   "display_name": "cmpe351",
   "language": "python",
   "name": "python3"
  },
  "language_info": {
   "codemirror_mode": {
    "name": "ipython",
    "version": 3
   },
   "file_extension": ".py",
   "mimetype": "text/x-python",
   "name": "python",
   "nbconvert_exporter": "python",
   "pygments_lexer": "ipython3",
   "version": "3.12.1"
  }
 },
 "nbformat": 4,
 "nbformat_minor": 2
}
