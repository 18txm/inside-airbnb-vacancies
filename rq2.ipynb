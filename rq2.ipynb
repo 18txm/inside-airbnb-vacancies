{
 "cells": [
  {
   "cell_type": "code",
   "execution_count": 1,
   "metadata": {},
   "outputs": [],
   "source": [
    "import pandas as pd\n",
    "import numpy as np\n",
    "import seaborn as sns                       #visualisation\n",
    "import matplotlib\n",
    "import matplotlib.pyplot as plt             #visualisation\n",
    "import os\n",
    "from sklearn import preprocessing \n",
    "\n",
    "%matplotlib inline     \n",
    "sns.set(color_codes=True)"
   ]
  },
  {
   "cell_type": "code",
   "execution_count": 2,
   "metadata": {},
   "outputs": [],
   "source": [
    "carsons_path = 'C:\\\\Users\\\\Carson\\\\Desktop\\\\cmpe351'\n",
    "\n",
    "listings = pd.read_csv(os.path.join(carsons_path, \"listings.csv\"))\n",
    "sum_listings = pd.read_csv(os.path.join(carsons_path, \"listings summary.csv\"))\n",
    "sum_nbhd = pd.read_csv(os.path.join(carsons_path, \"neighbourhoods summary.csv\"))\n",
    "sum_rev = pd.read_csv(os.path.join(carsons_path, \"reviews summary.csv\"))\n",
    "revs = pd.read_csv(os.path.join(carsons_path, \"reviews.csv\"))\n"
   ]
  },
  {
   "cell_type": "markdown",
   "metadata": {},
   "source": [
    "minimum_nights              minimum number of night stay for the listing (calendar rules may be different)\n",
    "minimum_minimum_nights      the smallest minimum_night value from the calender (looking 365 nights in the future)\n",
    "maximum_minimum_nights      the largest minimum_night value from the calender (looking 365 nights in the future)\n",
    "minimum_nights_avg_ntm      the average minimum_night value from the calender (looking 365 nights in the future)"
   ]
  },
  {
   "cell_type": "markdown",
   "metadata": {},
   "source": [
    "### RQ2: How does the minimum number of nights that customers must book affect the likelihood of a property being vacant?"
   ]
  },
  {
   "cell_type": "markdown",
   "metadata": {},
   "source": []
  },
  {
   "cell_type": "code",
   "execution_count": 3,
   "metadata": {},
   "outputs": [
    {
     "name": "stdout",
     "output_type": "stream",
     "text": [
      "Index(['id', 'listing_url', 'scrape_id', 'last_scraped', 'source', 'name',\n",
      "       'description', 'neighborhood_overview', 'picture_url', 'host_id',\n",
      "       'host_url', 'host_name', 'host_since', 'host_location', 'host_about',\n",
      "       'host_response_time', 'host_response_rate', 'host_acceptance_rate',\n",
      "       'host_is_superhost', 'host_thumbnail_url', 'host_picture_url',\n",
      "       'host_neighbourhood', 'host_listings_count',\n",
      "       'host_total_listings_count', 'host_verifications',\n",
      "       'host_has_profile_pic', 'host_identity_verified', 'neighbourhood',\n",
      "       'neighbourhood_cleansed', 'neighbourhood_group_cleansed', 'latitude',\n",
      "       'longitude', 'property_type', 'room_type', 'accommodates', 'bathrooms',\n",
      "       'bathrooms_text', 'bedrooms', 'beds', 'amenities', 'price',\n",
      "       'minimum_nights', 'maximum_nights', 'minimum_minimum_nights',\n",
      "       'maximum_minimum_nights', 'minimum_maximum_nights',\n",
      "       'maximum_maximum_nights', 'minimum_nights_avg_ntm',\n",
      "       'maximum_nights_avg_ntm', 'calendar_updated', 'has_availability',\n",
      "       'availability_30', 'availability_60', 'availability_90',\n",
      "       'availability_365', 'calendar_last_scraped', 'number_of_reviews',\n",
      "       'number_of_reviews_ltm', 'number_of_reviews_l30d', 'first_review',\n",
      "       'last_review', 'review_scores_rating', 'review_scores_accuracy',\n",
      "       'review_scores_cleanliness', 'review_scores_checkin',\n",
      "       'review_scores_communication', 'review_scores_location',\n",
      "       'review_scores_value', 'license', 'instant_bookable',\n",
      "       'calculated_host_listings_count',\n",
      "       'calculated_host_listings_count_entire_homes',\n",
      "       'calculated_host_listings_count_private_rooms',\n",
      "       'calculated_host_listings_count_shared_rooms', 'reviews_per_month'],\n",
      "      dtype='object')\n"
     ]
    }
   ],
   "source": [
    "print(listings.columns)"
   ]
  },
  {
   "cell_type": "code",
   "execution_count": 4,
   "metadata": {},
   "outputs": [
    {
     "data": {
      "text/html": [
       "<div>\n",
       "<style scoped>\n",
       "    .dataframe tbody tr th:only-of-type {\n",
       "        vertical-align: middle;\n",
       "    }\n",
       "\n",
       "    .dataframe tbody tr th {\n",
       "        vertical-align: top;\n",
       "    }\n",
       "\n",
       "    .dataframe thead th {\n",
       "        text-align: right;\n",
       "    }\n",
       "</style>\n",
       "<table border=\"1\" class=\"dataframe\">\n",
       "  <thead>\n",
       "    <tr style=\"text-align: right;\">\n",
       "      <th></th>\n",
       "      <th>id</th>\n",
       "      <th>name</th>\n",
       "      <th>host_id</th>\n",
       "      <th>host_name</th>\n",
       "      <th>neighbourhood_group</th>\n",
       "      <th>neighbourhood</th>\n",
       "      <th>latitude</th>\n",
       "      <th>longitude</th>\n",
       "      <th>room_type</th>\n",
       "      <th>price</th>\n",
       "      <th>minimum_nights</th>\n",
       "      <th>number_of_reviews</th>\n",
       "      <th>last_review</th>\n",
       "      <th>reviews_per_month</th>\n",
       "      <th>calculated_host_listings_count</th>\n",
       "      <th>availability_365</th>\n",
       "      <th>number_of_reviews_ltm</th>\n",
       "      <th>license</th>\n",
       "    </tr>\n",
       "  </thead>\n",
       "  <tbody>\n",
       "    <tr>\n",
       "      <th>0</th>\n",
       "      <td>34935</td>\n",
       "      <td>Rental unit in Greater London · ★4.55 · 1 bedr...</td>\n",
       "      <td>133271</td>\n",
       "      <td>Hendryks</td>\n",
       "      <td>NaN</td>\n",
       "      <td>Tower Hamlets</td>\n",
       "      <td>51.52367</td>\n",
       "      <td>-0.068886</td>\n",
       "      <td>Entire home/apt</td>\n",
       "      <td>151.0</td>\n",
       "      <td>2</td>\n",
       "      <td>122</td>\n",
       "      <td>2023-10-02</td>\n",
       "      <td>0.75</td>\n",
       "      <td>10</td>\n",
       "      <td>7</td>\n",
       "      <td>3</td>\n",
       "      <td>NaN</td>\n",
       "    </tr>\n",
       "    <tr>\n",
       "      <th>1</th>\n",
       "      <td>198258</td>\n",
       "      <td>Rental unit in Barking · ★4.74 · 1 bedroom · 1...</td>\n",
       "      <td>967537</td>\n",
       "      <td>Ryan</td>\n",
       "      <td>NaN</td>\n",
       "      <td>Barking and Dagenham</td>\n",
       "      <td>51.53430</td>\n",
       "      <td>0.081780</td>\n",
       "      <td>Private room</td>\n",
       "      <td>67.0</td>\n",
       "      <td>2</td>\n",
       "      <td>41</td>\n",
       "      <td>2023-03-16</td>\n",
       "      <td>0.27</td>\n",
       "      <td>1</td>\n",
       "      <td>363</td>\n",
       "      <td>1</td>\n",
       "      <td>NaN</td>\n",
       "    </tr>\n",
       "    <tr>\n",
       "      <th>2</th>\n",
       "      <td>228389</td>\n",
       "      <td>Home in Croydon · 1 bedroom · 1 bed · 1.5 shar...</td>\n",
       "      <td>1023326</td>\n",
       "      <td>Jocelyn</td>\n",
       "      <td>NaN</td>\n",
       "      <td>Croydon</td>\n",
       "      <td>51.36646</td>\n",
       "      <td>-0.121180</td>\n",
       "      <td>Private room</td>\n",
       "      <td>50.0</td>\n",
       "      <td>2</td>\n",
       "      <td>0</td>\n",
       "      <td>NaN</td>\n",
       "      <td>NaN</td>\n",
       "      <td>3</td>\n",
       "      <td>341</td>\n",
       "      <td>0</td>\n",
       "      <td>NaN</td>\n",
       "    </tr>\n",
       "    <tr>\n",
       "      <th>3</th>\n",
       "      <td>229684</td>\n",
       "      <td>Home in Lewisham · ★4.41 · 1 bedroom · 1 bed ·...</td>\n",
       "      <td>448365</td>\n",
       "      <td>Roland</td>\n",
       "      <td>NaN</td>\n",
       "      <td>Lewisham</td>\n",
       "      <td>51.48793</td>\n",
       "      <td>-0.042040</td>\n",
       "      <td>Private room</td>\n",
       "      <td>30.0</td>\n",
       "      <td>1</td>\n",
       "      <td>22</td>\n",
       "      <td>2016-11-06</td>\n",
       "      <td>0.20</td>\n",
       "      <td>3</td>\n",
       "      <td>0</td>\n",
       "      <td>0</td>\n",
       "      <td>NaN</td>\n",
       "    </tr>\n",
       "    <tr>\n",
       "      <th>4</th>\n",
       "      <td>230839</td>\n",
       "      <td>Rental unit in Hackney · ★4.50 · 1 bedroom · 1...</td>\n",
       "      <td>671259</td>\n",
       "      <td>Kiki</td>\n",
       "      <td>NaN</td>\n",
       "      <td>Hackney</td>\n",
       "      <td>51.53680</td>\n",
       "      <td>-0.077530</td>\n",
       "      <td>Entire home/apt</td>\n",
       "      <td>NaN</td>\n",
       "      <td>7</td>\n",
       "      <td>4</td>\n",
       "      <td>2012-08-16</td>\n",
       "      <td>0.03</td>\n",
       "      <td>1</td>\n",
       "      <td>0</td>\n",
       "      <td>0</td>\n",
       "      <td>NaN</td>\n",
       "    </tr>\n",
       "  </tbody>\n",
       "</table>\n",
       "</div>"
      ],
      "text/plain": [
       "       id                                               name  host_id  \\\n",
       "0   34935  Rental unit in Greater London · ★4.55 · 1 bedr...   133271   \n",
       "1  198258  Rental unit in Barking · ★4.74 · 1 bedroom · 1...   967537   \n",
       "2  228389  Home in Croydon · 1 bedroom · 1 bed · 1.5 shar...  1023326   \n",
       "3  229684  Home in Lewisham · ★4.41 · 1 bedroom · 1 bed ·...   448365   \n",
       "4  230839  Rental unit in Hackney · ★4.50 · 1 bedroom · 1...   671259   \n",
       "\n",
       "  host_name  neighbourhood_group         neighbourhood  latitude  longitude  \\\n",
       "0  Hendryks                  NaN         Tower Hamlets  51.52367  -0.068886   \n",
       "1      Ryan                  NaN  Barking and Dagenham  51.53430   0.081780   \n",
       "2   Jocelyn                  NaN               Croydon  51.36646  -0.121180   \n",
       "3    Roland                  NaN              Lewisham  51.48793  -0.042040   \n",
       "4      Kiki                  NaN               Hackney  51.53680  -0.077530   \n",
       "\n",
       "         room_type  price  minimum_nights  number_of_reviews last_review  \\\n",
       "0  Entire home/apt  151.0               2                122  2023-10-02   \n",
       "1     Private room   67.0               2                 41  2023-03-16   \n",
       "2     Private room   50.0               2                  0         NaN   \n",
       "3     Private room   30.0               1                 22  2016-11-06   \n",
       "4  Entire home/apt    NaN               7                  4  2012-08-16   \n",
       "\n",
       "   reviews_per_month  calculated_host_listings_count  availability_365  \\\n",
       "0               0.75                              10                 7   \n",
       "1               0.27                               1               363   \n",
       "2                NaN                               3               341   \n",
       "3               0.20                               3                 0   \n",
       "4               0.03                               1                 0   \n",
       "\n",
       "   number_of_reviews_ltm  license  \n",
       "0                      3      NaN  \n",
       "1                      1      NaN  \n",
       "2                      0      NaN  \n",
       "3                      0      NaN  \n",
       "4                      0      NaN  "
      ]
     },
     "execution_count": 4,
     "metadata": {},
     "output_type": "execute_result"
    }
   ],
   "source": [
    "sum_listings.head()"
   ]
  },
  {
   "cell_type": "code",
   "execution_count": 5,
   "metadata": {},
   "outputs": [
    {
     "data": {
      "text/html": [
       "<div>\n",
       "<style scoped>\n",
       "    .dataframe tbody tr th:only-of-type {\n",
       "        vertical-align: middle;\n",
       "    }\n",
       "\n",
       "    .dataframe tbody tr th {\n",
       "        vertical-align: top;\n",
       "    }\n",
       "\n",
       "    .dataframe thead th {\n",
       "        text-align: right;\n",
       "    }\n",
       "</style>\n",
       "<table border=\"1\" class=\"dataframe\">\n",
       "  <thead>\n",
       "    <tr style=\"text-align: right;\">\n",
       "      <th></th>\n",
       "      <th>neighbourhood_group</th>\n",
       "      <th>neighbourhood</th>\n",
       "    </tr>\n",
       "  </thead>\n",
       "  <tbody>\n",
       "    <tr>\n",
       "      <th>0</th>\n",
       "      <td>NaN</td>\n",
       "      <td>Barking and Dagenham</td>\n",
       "    </tr>\n",
       "    <tr>\n",
       "      <th>1</th>\n",
       "      <td>NaN</td>\n",
       "      <td>Barnet</td>\n",
       "    </tr>\n",
       "    <tr>\n",
       "      <th>2</th>\n",
       "      <td>NaN</td>\n",
       "      <td>Bexley</td>\n",
       "    </tr>\n",
       "    <tr>\n",
       "      <th>3</th>\n",
       "      <td>NaN</td>\n",
       "      <td>Brent</td>\n",
       "    </tr>\n",
       "    <tr>\n",
       "      <th>4</th>\n",
       "      <td>NaN</td>\n",
       "      <td>Bromley</td>\n",
       "    </tr>\n",
       "  </tbody>\n",
       "</table>\n",
       "</div>"
      ],
      "text/plain": [
       "   neighbourhood_group         neighbourhood\n",
       "0                  NaN  Barking and Dagenham\n",
       "1                  NaN                Barnet\n",
       "2                  NaN                Bexley\n",
       "3                  NaN                 Brent\n",
       "4                  NaN               Bromley"
      ]
     },
     "execution_count": 5,
     "metadata": {},
     "output_type": "execute_result"
    }
   ],
   "source": [
    "sum_nbhd.head()"
   ]
  },
  {
   "cell_type": "code",
   "execution_count": 6,
   "metadata": {},
   "outputs": [
    {
     "data": {
      "text/html": [
       "<div>\n",
       "<style scoped>\n",
       "    .dataframe tbody tr th:only-of-type {\n",
       "        vertical-align: middle;\n",
       "    }\n",
       "\n",
       "    .dataframe tbody tr th {\n",
       "        vertical-align: top;\n",
       "    }\n",
       "\n",
       "    .dataframe thead th {\n",
       "        text-align: right;\n",
       "    }\n",
       "</style>\n",
       "<table border=\"1\" class=\"dataframe\">\n",
       "  <thead>\n",
       "    <tr style=\"text-align: right;\">\n",
       "      <th></th>\n",
       "      <th>listing_id</th>\n",
       "      <th>date</th>\n",
       "    </tr>\n",
       "  </thead>\n",
       "  <tbody>\n",
       "    <tr>\n",
       "      <th>0</th>\n",
       "      <td>13913</td>\n",
       "      <td>2010-08-18</td>\n",
       "    </tr>\n",
       "    <tr>\n",
       "      <th>1</th>\n",
       "      <td>13913</td>\n",
       "      <td>2011-07-11</td>\n",
       "    </tr>\n",
       "    <tr>\n",
       "      <th>2</th>\n",
       "      <td>13913</td>\n",
       "      <td>2011-09-13</td>\n",
       "    </tr>\n",
       "    <tr>\n",
       "      <th>3</th>\n",
       "      <td>13913</td>\n",
       "      <td>2011-10-03</td>\n",
       "    </tr>\n",
       "    <tr>\n",
       "      <th>4</th>\n",
       "      <td>13913</td>\n",
       "      <td>2011-10-09</td>\n",
       "    </tr>\n",
       "  </tbody>\n",
       "</table>\n",
       "</div>"
      ],
      "text/plain": [
       "   listing_id        date\n",
       "0       13913  2010-08-18\n",
       "1       13913  2011-07-11\n",
       "2       13913  2011-09-13\n",
       "3       13913  2011-10-03\n",
       "4       13913  2011-10-09"
      ]
     },
     "execution_count": 6,
     "metadata": {},
     "output_type": "execute_result"
    }
   ],
   "source": [
    "sum_rev.head()"
   ]
  },
  {
   "cell_type": "code",
   "execution_count": 7,
   "metadata": {},
   "outputs": [
    {
     "data": {
      "text/html": [
       "<div>\n",
       "<style scoped>\n",
       "    .dataframe tbody tr th:only-of-type {\n",
       "        vertical-align: middle;\n",
       "    }\n",
       "\n",
       "    .dataframe tbody tr th {\n",
       "        vertical-align: top;\n",
       "    }\n",
       "\n",
       "    .dataframe thead th {\n",
       "        text-align: right;\n",
       "    }\n",
       "</style>\n",
       "<table border=\"1\" class=\"dataframe\">\n",
       "  <thead>\n",
       "    <tr style=\"text-align: right;\">\n",
       "      <th></th>\n",
       "      <th>listing_id</th>\n",
       "      <th>id</th>\n",
       "      <th>date</th>\n",
       "      <th>reviewer_id</th>\n",
       "      <th>reviewer_name</th>\n",
       "      <th>comments</th>\n",
       "    </tr>\n",
       "  </thead>\n",
       "  <tbody>\n",
       "    <tr>\n",
       "      <th>0</th>\n",
       "      <td>13913</td>\n",
       "      <td>80770</td>\n",
       "      <td>2010-08-18</td>\n",
       "      <td>177109</td>\n",
       "      <td>Michael</td>\n",
       "      <td>My girlfriend and I hadn't known Alina before ...</td>\n",
       "    </tr>\n",
       "    <tr>\n",
       "      <th>1</th>\n",
       "      <td>13913</td>\n",
       "      <td>367568</td>\n",
       "      <td>2011-07-11</td>\n",
       "      <td>19835707</td>\n",
       "      <td>Mathias</td>\n",
       "      <td>Alina was a really good host. The flat is clea...</td>\n",
       "    </tr>\n",
       "    <tr>\n",
       "      <th>2</th>\n",
       "      <td>13913</td>\n",
       "      <td>529579</td>\n",
       "      <td>2011-09-13</td>\n",
       "      <td>1110304</td>\n",
       "      <td>Kristin</td>\n",
       "      <td>Alina is an amazing host. She made me feel rig...</td>\n",
       "    </tr>\n",
       "    <tr>\n",
       "      <th>3</th>\n",
       "      <td>13913</td>\n",
       "      <td>595481</td>\n",
       "      <td>2011-10-03</td>\n",
       "      <td>1216358</td>\n",
       "      <td>Camilla</td>\n",
       "      <td>Alina's place is so nice, the room is big and ...</td>\n",
       "    </tr>\n",
       "    <tr>\n",
       "      <th>4</th>\n",
       "      <td>13913</td>\n",
       "      <td>612947</td>\n",
       "      <td>2011-10-09</td>\n",
       "      <td>490840</td>\n",
       "      <td>Jorik</td>\n",
       "      <td>Nice location in Islington area, good for shor...</td>\n",
       "    </tr>\n",
       "  </tbody>\n",
       "</table>\n",
       "</div>"
      ],
      "text/plain": [
       "   listing_id      id        date  reviewer_id reviewer_name  \\\n",
       "0       13913   80770  2010-08-18       177109       Michael   \n",
       "1       13913  367568  2011-07-11     19835707       Mathias   \n",
       "2       13913  529579  2011-09-13      1110304       Kristin   \n",
       "3       13913  595481  2011-10-03      1216358       Camilla   \n",
       "4       13913  612947  2011-10-09       490840         Jorik   \n",
       "\n",
       "                                            comments  \n",
       "0  My girlfriend and I hadn't known Alina before ...  \n",
       "1  Alina was a really good host. The flat is clea...  \n",
       "2  Alina is an amazing host. She made me feel rig...  \n",
       "3  Alina's place is so nice, the room is big and ...  \n",
       "4  Nice location in Islington area, good for shor...  "
      ]
     },
     "execution_count": 7,
     "metadata": {},
     "output_type": "execute_result"
    }
   ],
   "source": [
    "revs.head()"
   ]
  },
  {
   "cell_type": "code",
   "execution_count": 8,
   "metadata": {},
   "outputs": [
    {
     "data": {
      "text/plain": [
       "0         2.0\n",
       "1         2.0\n",
       "2         4.0\n",
       "3        14.0\n",
       "4         1.0\n",
       "         ... \n",
       "91773     7.0\n",
       "91774     3.0\n",
       "91775     1.0\n",
       "91776     1.0\n",
       "91777     1.0\n",
       "Name: minimum_minimum_nights, Length: 91778, dtype: float64"
      ]
     },
     "execution_count": 8,
     "metadata": {},
     "output_type": "execute_result"
    }
   ],
   "source": [
    "listings['minimum_minimum_nights']"
   ]
  },
  {
   "cell_type": "code",
   "execution_count": 9,
   "metadata": {},
   "outputs": [
    {
     "data": {
      "text/plain": [
       "0         2\n",
       "1         2\n",
       "2         4\n",
       "3        14\n",
       "4         1\n",
       "         ..\n",
       "91773     7\n",
       "91774     3\n",
       "91775     1\n",
       "91776     1\n",
       "91777     3\n",
       "Name: minimum_nights, Length: 91778, dtype: int64"
      ]
     },
     "execution_count": 9,
     "metadata": {},
     "output_type": "execute_result"
    }
   ],
   "source": [
    "listings['minimum_nights']"
   ]
  },
  {
   "cell_type": "code",
   "execution_count": 10,
   "metadata": {},
   "outputs": [
    {
     "data": {
      "text/plain": [
       "count    91777.000000\n",
       "mean        -0.361627\n",
       "std          9.631561\n",
       "min       -997.000000\n",
       "25%          0.000000\n",
       "50%          0.000000\n",
       "75%          0.000000\n",
       "max        364.000000\n",
       "dtype: float64"
      ]
     },
     "execution_count": 10,
     "metadata": {},
     "output_type": "execute_result"
    }
   ],
   "source": [
    "(listings['minimum_minimum_nights']-listings['minimum_nights']).describe()"
   ]
  },
  {
   "cell_type": "code",
   "execution_count": 11,
   "metadata": {},
   "outputs": [],
   "source": [
    "columns = ['minimum_nights', 'maximum_nights', 'minimum_minimum_nights',\n",
    "       'maximum_minimum_nights', 'minimum_maximum_nights',\n",
    "       'maximum_maximum_nights', 'minimum_nights_avg_ntm',\n",
    "       'maximum_nights_avg_ntm', 'has_availability',\n",
    "       'availability_30', 'availability_60', 'availability_90',\n",
    "       'availability_365']"
   ]
  },
  {
   "cell_type": "code",
   "execution_count": 40,
   "metadata": {},
   "outputs": [
    {
     "data": {
      "text/plain": [
       "array([[<Axes: title={'center': 'minimum_nights'}>]], dtype=object)"
      ]
     },
     "execution_count": 40,
     "metadata": {},
     "output_type": "execute_result"
    },
    {
     "data": {
      "image/png": "[encoded data removed]",
      "text/plain": [
       "<Figure size 640x480 with 1 Axes>"
      ]
     },
     "metadata": {},
     "output_type": "display_data"
    }
   ],
   "source": [
    "pd.DataFrame.hist(data = sum_listings[sum_listings['minimum_nights']<21], column='minimum_nights', bins=10)"
   ]
  },
  {
   "cell_type": "code",
   "execution_count": 26,
   "metadata": {},
   "outputs": [
    {
     "data": {
      "text/plain": [
       "id                                3521\n",
       "name                              3521\n",
       "host_id                           3521\n",
       "host_name                         3521\n",
       "neighbourhood_group                  0\n",
       "neighbourhood                     3521\n",
       "latitude                          3521\n",
       "longitude                         3521\n",
       "room_type                         3521\n",
       "price                             3381\n",
       "minimum_nights                    3521\n",
       "number_of_reviews                 3521\n",
       "last_review                       1970\n",
       "reviews_per_month                 1970\n",
       "calculated_host_listings_count    3521\n",
       "availability_365                  3521\n",
       "number_of_reviews_ltm             3521\n",
       "license                              0\n",
       "dtype: int64"
      ]
     },
     "execution_count": 26,
     "metadata": {},
     "output_type": "execute_result"
    }
   ],
   "source": [
    "sum_listings[sum_listings['minimum_nights']>21].count()"
   ]
  },
  {
   "cell_type": "code",
   "execution_count": 41,
   "metadata": {},
   "outputs": [
    {
     "name": "stdout",
     "output_type": "stream",
     "text": [
      "-0.01777665863703026\n",
      "-0.027009241761443786\n",
      "-0.027039518758866562\n",
      "-0.017033694676708167\n"
     ]
    }
   ],
   "source": [
    "dud_listings =listings[listings['minimum_nights']<21]\n",
    "\n",
    "min_nights = dud_listings['minimum_nights']\n",
    "avail_356 = dud_listings['availability_365']\n",
    "avail_90 = dud_listings['availability_90']\n",
    "avail_60 = dud_listings['availability_60']\n",
    "avail_30 = dud_listings['availability_30']\n",
    "\n",
    "corr_365 = avail_356.corr(min_nights)\n",
    "corr_90 = avail_90.corr(min_nights)\n",
    "corr_60 = avail_60.corr(min_nights)\n",
    "corr_30 = avail_30.corr(min_nights)\n",
    "\n",
    "print(corr_365)\n",
    "print(corr_90)\n",
    "print(corr_60)\n",
    "print(corr_30)"
   ]
  },
  {
   "cell_type": "code",
   "execution_count": 43,
   "metadata": {},
   "outputs": [
    {
     "name": "stdout",
     "output_type": "stream",
     "text": [
      "0.07267615512962514\n",
      "0.09882105041409299\n",
      "0.10216398682478167\n",
      "0.13653208010799847\n"
     ]
    }
   ],
   "source": [
    "dud_listings =listings[listings['minimum_nights']>100]\n",
    "\n",
    "min_nights = dud_listings['minimum_nights']\n",
    "avail_356 = dud_listings['availability_365']\n",
    "avail_90 = dud_listings['availability_90']\n",
    "avail_60 = dud_listings['availability_60']\n",
    "avail_30 = dud_listings['availability_30']\n",
    "\n",
    "corr_365 = avail_356.corr(min_nights)\n",
    "corr_90 = avail_90.corr(min_nights)\n",
    "corr_60 = avail_60.corr(min_nights)\n",
    "corr_30 = avail_30.corr(min_nights)\n",
    "\n",
    "print(corr_365)\n",
    "print(corr_90)\n",
    "print(corr_60)\n",
    "print(corr_30)"
   ]
  },
  {
   "cell_type": "markdown",
   "metadata": {},
   "source": [
    "does not appear to be a substantial correlation between number of minimum nights and availability\n"
   ]
  }
 ],
 "metadata": {
  "kernelspec": {
   "display_name": "cmpe351",
   "language": "python",
   "name": "python3"
  },
  "language_info": {
   "codemirror_mode": {
    "name": "ipython",
    "version": 3
   },
   "file_extension": ".py",
   "mimetype": "text/x-python",
   "name": "python",
   "nbconvert_exporter": "python",
   "pygments_lexer": "ipython3",
   "version": "3.9.18"
  }
 },
 "nbformat": 4,
 "nbformat_minor": 2
}
