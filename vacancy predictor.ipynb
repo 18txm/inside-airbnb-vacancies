{
 "cells": [
  {
   "cell_type": "markdown",
   "metadata": {},
   "source": [
    "3.1 RQ1: Can the availability of an Airbnb rental prop-\n",
    "erty in the next 30 days be predicted using the scores\n",
    "and reviews that the property has received?\n",
    "\n",
    "Motivation: Airbnb allows renters to provide scores for\n",
    "the cleanliness, location, value, and check-in experience\n",
    "of the property they rented as well as a score for the\n",
    "property’s owner communication. This research question\n",
    "aims to determine the correlation and importance of\n",
    "rental reviews towards the projected vacancy of a rental\n",
    "property. Airbnb property owners may adjust their rental\n",
    "strategies, including pricing, check-in methods, and\n",
    "property cleanliness to increase the likelihood of rentals in\n",
    "the upcoming month.\n",
    "\n",
    "Proposed Methodology: The hypothesis which will be\n",
    "evaluated during testing is that properties with higher\n",
    "scores for cleanliness, location, value, and check-in\n",
    "experience have fewer vacancies in the next month. Data\n",
    "related to the review scores of rental properties will be\n",
    "extracted, as well as the number of days that the property is\n",
    "vacant in the next month. Properties that have received no\n",
    "reviews will be excluded during testing. Property owners\n",
    "should look to examine factors with a strong correlation\n",
    "with projected vacancy to positively impact their profits"
   ]
  },
  {
   "cell_type": "code",
   "execution_count": null,
   "metadata": {},
   "outputs": [],
   "source": []
  }
 ],
 "metadata": {
  "language_info": {
   "name": "python"
  }
 },
 "nbformat": 4,
 "nbformat_minor": 2
}
