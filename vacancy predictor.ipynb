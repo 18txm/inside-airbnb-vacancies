{
 "cells": [
  {
   "cell_type": "markdown",
   "metadata": {},
   "source": [
    "3.1 RQ1: Can the availability of an Airbnb rental prop-\n",
    "erty in the next 30 days be predicted using the scores\n",
    "and reviews that the property has received?\n",
    "\n",
    "Motivation: Airbnb allows renters to provide scores for\n",
    "the cleanliness, location, value, and check-in experience\n",
    "of the property they rented as well as a score for the\n",
    "property’s owner communication. This research question\n",
    "aims to determine the correlation and importance of\n",
    "rental reviews towards the projected vacancy of a rental\n",
    "property. Airbnb property owners may adjust their rental\n",
    "strategies, including pricing, check-in methods, and\n",
    "property cleanliness to increase the likelihood of rentals in\n",
    "the upcoming month.\n",
    "\n",
    "Proposed Methodology: The hypothesis which will be\n",
    "evaluated during testing is that properties with higher\n",
    "scores for cleanliness, location, value, and check-in\n",
    "experience have fewer vacancies in the next month. Data\n",
    "related to the review scores of rental properties will be\n",
    "extracted, as well as the number of days that the property is\n",
    "vacant in the next month. Properties that have received no\n",
    "reviews will be excluded during testing. Property owners\n",
    "should look to examine factors with a strong correlation\n",
    "with projected vacancy to positively impact their profits"
   ]
  },
  {
   "cell_type": "code",
   "execution_count": null,
   "outputs": [],
   "source": [
    "# ----- Import Statements ----- #\n",
    "import numpy as np\n",
    "import pandas as pd\n",
    "import plotly.express as px\n",
    "from sklearn.linear_model import LinearRegression\n",
    "from sklearn.metrics import mean_squared_error\n",
    "from sklearn.model_selection import train_test_split\n"
   ],
   "metadata": {
    "collapsed": false
   }
  },
  {
   "cell_type": "code",
   "execution_count": null,
   "outputs": [],
   "source": [
    "# ----- Read CSV File Into Dataframe ----- #\n",
    "filepath = './../../data/Airbnb_London/listings.csv'\n",
    "\n"
   ],
   "metadata": {
    "collapsed": false
   }
  },
  {
   "cell_type": "code",
   "execution_count": null,
   "outputs": [],
   "source": [
    "# ----- Perform Feature Extraction Here ----- #\n",
    "\n",
    "# extract dataframe for regression model"
   ],
   "metadata": {
    "collapsed": false
   }
  },
  {
   "cell_type": "code",
   "execution_count": null,
   "metadata": {},
   "outputs": [],
   "source": [
    "# ----- Linear Regression Functions ----- #\n",
    "def rmse(y, y_pred):\n",
    "    return np.sqrt(mean_squared_error(y, y_pred))\n",
    "\n",
    "def train_test(model, data, is_log=False):\n",
    "    data.dropna(inplace=True)\n",
    "    train_data, test_data = train_test_split(data, test_size=0.2, shuffle=True)\n",
    "    if is_log:\n",
    "        y_train = train_data['SALE PRICE LOG']\n",
    "        y_test = test_data['SALE PRICE LOG']\n",
    "    else:\n",
    "        y_train = train_data['SALE PRICE']\n",
    "        y_test = test_data['SALE PRICE']\n",
    "        \n",
    "    x_train = train_data.drop(['SALE PRICE', 'SALE PRICE LOG'], axis=1)\n",
    "    x_test = test_data.drop(['SALE PRICE', 'SALE PRICE LOG'], axis=1)\n",
    "    \n",
    "    model.fit(x_train, y_train)\n",
    "    y_train_pred = model.predict(x_train)\n",
    "    y_test_pred = model.predict(x_test)\n",
    "    if is_log:\n",
    "        print(\"RMSE train log-scale: {}\".format(rmse(y_train, y_train_pred)))\n",
    "        print(\"RMSE test log-scale: {}\".format(rmse(y_test, y_test_pred)))\n",
    "    else:\n",
    "        print(\"RMSE train: {}\".format(rmse(y_train, y_train_pred)))\n",
    "        print(\"RMSE test: {}\".format(rmse(y_test, y_test_pred)))\n",
    "    \n",
    "    train_data.rename(columns={'SALE PRICE': 'Real Price'}, inplace=True)\n",
    "    train_data['Predicted Price'] = y_train_pred\n",
    "    train_data['Data Partition'] = 'train data'\n",
    "    \n",
    "    test_data.rename(columns={'SALE PRICE': 'Real Price'}, inplace=True)\n",
    "    test_data['Predicted Price'] = y_test_pred\n",
    "    test_data['Data Partition'] = 'test data'\n",
    "    \n",
    "    all_data = pd.concat([train_data, test_data])\n",
    "    return all_data"
   ]
  },
  {
   "cell_type": "code",
   "execution_count": null,
   "outputs": [],
   "source": [
    "# ----- Split Data & Run Regression ----- #\n",
    "\n",
    "# make sure to run Q5 and Q4 code to initialize the data\n",
    "eng_data = df_q6_eng # from Q5\n",
    "eng_data['SALE PRICE LOG'] = np.log(1 + eng_data['SALE PRICE'])\n",
    "raw_data = df_q6_raw # from Q4\n",
    "raw_data['SALE PRICE LOG'] = np.log(1 + raw_data['SALE PRICE'])\n",
    "\n",
    "##### Model A - Feature Engineered Model #####\n",
    "print('##### Results for Model A: #####')\n",
    "model_A = LinearRegression()\n",
    "data_A = train_test(model_A, eng_data)\n",
    "fig_q6_1 = px.scatter(data_A, x='Real Price', y='Predicted Price', trendline='ols', color='Data Partition', title='MODEL A: Real vs Predicted Brooklyn Rental Elevator Apartment Prices')\n",
    "fig_q6_1.show()\n",
    "\n",
    "##### Model B - Raw Feature Model #####\n",
    "print('##### Results for Model B: #####')\n",
    "model_B = LinearRegression()\n",
    "data_B = train_test(model_B, raw_data)\n",
    "fig_q6_2 = px.scatter(data_B, x='Real Price', y='Predicted Price', trendline='ols', color='Data Partition', title='MODEL B: Real vs Predicted Brooklyn Rental Elevator Apartment Prices')\n",
    "fig_q6_2.show()\n",
    "\n",
    "##### Compare Test Results from BOTH Models #####\n",
    "data_A['Model'] = 'Model A'\n",
    "data_B['Model'] = 'Model B'\n",
    "part = 'test data'\n",
    "data_AB = pd.concat([data_A.query('`Data Partition` == @part'), data_B.query('`Data Partition` == @part')])\n",
    "data_AB = data_AB.filter(items=['Predicted Price', 'Real Price', 'Model'])\n",
    "fig_q6_3 = px.scatter(data_AB, x='Real Price', y='Predicted Price', trendline='ols', color='Model', title='TEST RESULTS: Real vs Predicted Brooklyn Rental Elevator Apartment Prices')\n",
    "fig_q6_3.show()\n",
    "\n",
    "##### ##### ##### ##### #####"
   ],
   "metadata": {
    "collapsed": false
   }
  }
 ],
 "metadata": {
  "language_info": {
   "name": "python"
  }
 },
 "nbformat": 4,
 "nbformat_minor": 2
}
