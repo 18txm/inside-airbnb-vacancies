{
 "cells": [
  {
   "cell_type": "markdown",
   "metadata": {},
   "source": [
    "## Exploratory Data Analysis\n",
    "\n",
    "https://www.kaggle.com/code/imoore/intro-to-exploratory-data-analysis-eda-in-python\n",
    "\n"
   ]
  },
  {
   "cell_type": "markdown",
   "metadata": {},
   "source": [
    "Milestone 2 is simple. You are asked to report the answer to your first research question (if you have only one member per RQ, then you should update the progress for each RQ) We expect that data exploration is completed at this stage. \n",
    "\n",
    "Your report will be judged on the progress of your project given the number of members available for the task. \n",
    "\n",
    "If you are asked to modify your research questions in milestone 1, you must report your updated research questions in milestone 2. \n",
    "\n",
    "You just need to add one section named Milestone 2 Report in your proposal (in overleaf) and generate a pdf file for submission. In this new section, describe: \n",
    "\n",
    "1) If your research questions have been updated from the proposal. What's your new research questions?\n",
    "\n",
    "2) Describe if your methodology has been updated since milestone 1 (proposal) and how. \n",
    "\n",
    "3) Describe your current results, e.g., finding from data exploration, answer to research questions 1. \n",
    "\n",
    "4) Update the member contribution section based on progress so far.\n"
   ]
  },
  {
   "cell_type": "markdown",
   "metadata": {},
   "source": [
    "# Calendar.csv\n",
    "\n",
    "This .csv file contains:\n",
    "- listing_id,\n",
    "- date,\n",
    "- availability on said date\n",
    "- minimum number of nights bookable\n",
    "- maximum number of nights bookable\n",
    "\n",
    "Thus, this .csv file contains information for each listing regarding their availability for the past 365 days."
   ]
  },
  {
   "cell_type": "code",
   "execution_count": 24,
   "metadata": {},
   "outputs": [],
   "source": [
    "import pandas as pd\n",
    "import numpy as np\n",
    "import seaborn as sns                       #visualisation\n",
    "import matplotlib.pyplot as plt             #visualisation\n",
    "import os\n",
    "%matplotlib inline     \n",
    "sns.set(color_codes=True)"
   ]
  },
  {
   "cell_type": "code",
   "execution_count": 25,
   "metadata": {},
   "outputs": [],
   "source": [
    "# Formatting\n",
    "\n",
    "pd.set_option('display.float_format', lambda x: '%.2f' % x)"
   ]
  },
  {
   "cell_type": "code",
   "execution_count": 26,
   "metadata": {},
   "outputs": [
    {
     "name": "stderr",
     "output_type": "stream",
     "text": [
      "C:\\Users\\thoma\\AppData\\Local\\Temp\\ipykernel_9496\\798212983.py:8: DtypeWarning: Columns (3,4) have mixed types. Specify dtype option on import or set low_memory=False.\n",
      "  dfCalendar = pd.read_csv(os.path.join(rootPathThomasDesktop, \"calendar.csv\"))\n"
     ]
    }
   ],
   "source": [
    "# Read data\n",
    "\n",
    "# Change root path as required\n",
    "#rootPathThomas = \"C:\\\\Users\\\\User\\\\Desktop\\\\Data Airbnb\"\n",
    "rootPathThomasDesktop = \"C:\\\\Users\\\\thoma\\\\Desktop\\\\Data Airbnb\"\n",
    "\n",
    "dfListing = pd.read_csv(os.path.join(rootPathThomasDesktop, \"listings.csv\"))\n",
    "dfCalendar = pd.read_csv(os.path.join(rootPathThomasDesktop, \"calendar.csv\"))"
   ]
  },
  {
   "cell_type": "code",
   "execution_count": 27,
   "metadata": {},
   "outputs": [
    {
     "name": "stderr",
     "output_type": "stream",
     "text": [
      "C:\\Users\\thoma\\AppData\\Local\\Temp\\ipykernel_9496\\664358364.py:6: FutureWarning: Downcasting behavior in `replace` is deprecated and will be removed in a future version. To retain the old behavior, explicitly call `result.infer_objects(copy=False)`. To opt-in to the future behavior, set `pd.set_option('future.no_silent_downcasting', True)`\n",
      "  dfCalendar['available_int'] = dfCalendar['available'].replace({'t': 1, 'f': 0})\n"
     ]
    },
    {
     "data": {
      "text/plain": [
       "listing_id                 int64\n",
       "date              datetime64[ns]\n",
       "available                 object\n",
       "price                    float64\n",
       "adjusted_price           float64\n",
       "minimum_nights           float64\n",
       "maximum_nights           float64\n",
       "available_int              int64\n",
       "dtype: object"
      ]
     },
     "execution_count": 27,
     "metadata": {},
     "output_type": "execute_result"
    }
   ],
   "source": [
    "# Datatype modification so 'date' is datetime, 'price', and 'adjusted_price' are float64\n",
    "\n",
    "dfCalendar['date'] = pd.to_datetime(dfCalendar['date'])\n",
    "dfCalendar['price'] = dfCalendar['price'].replace('[$,]', '', regex=True).astype(float)\n",
    "dfCalendar['adjusted_price'] = dfCalendar['adjusted_price'].replace('[$,]', '', regex=True).astype(float)\n",
    "dfCalendar['available_int'] = dfCalendar['available'].replace({'t': 1, 'f': 0})\n",
    "\n",
    "dfCalendar.dtypes"
   ]
  },
  {
   "cell_type": "code",
   "execution_count": 48,
   "metadata": {},
   "outputs": [
    {
     "name": "stdout",
     "output_type": "stream",
     "text": [
      "<class 'pandas.core.frame.DataFrame'>\n",
      "RangeIndex: 33500650 entries, 0 to 33500649\n",
      "Data columns (total 6 columns):\n",
      " #   Column          Dtype         \n",
      "---  ------          -----         \n",
      " 0   listing_id      int64         \n",
      " 1   date            datetime64[ns]\n",
      " 2   available       object        \n",
      " 3   minimum_nights  float64       \n",
      " 4   maximum_nights  float64       \n",
      " 5   available_int   int64         \n",
      "dtypes: datetime64[ns](1), float64(2), int64(2), object(1)\n",
      "memory usage: 1.5+ GB\n"
     ]
    },
    {
     "data": {
      "text/html": [
       "<div>\n",
       "<style scoped>\n",
       "    .dataframe tbody tr th:only-of-type {\n",
       "        vertical-align: middle;\n",
       "    }\n",
       "\n",
       "    .dataframe tbody tr th {\n",
       "        vertical-align: top;\n",
       "    }\n",
       "\n",
       "    .dataframe thead th {\n",
       "        text-align: right;\n",
       "    }\n",
       "</style>\n",
       "<table border=\"1\" class=\"dataframe\">\n",
       "  <thead>\n",
       "    <tr style=\"text-align: right;\">\n",
       "      <th></th>\n",
       "      <th>count</th>\n",
       "      <th>mean</th>\n",
       "      <th>min</th>\n",
       "      <th>25%</th>\n",
       "      <th>50%</th>\n",
       "      <th>75%</th>\n",
       "      <th>max</th>\n",
       "      <th>std</th>\n",
       "    </tr>\n",
       "  </thead>\n",
       "  <tbody>\n",
       "    <tr>\n",
       "      <th>listing_id</th>\n",
       "      <td>33500650.00</td>\n",
       "      <td>408655097778208448.00</td>\n",
       "      <td>13913.00</td>\n",
       "      <td>23370935.00</td>\n",
       "      <td>52501739.00</td>\n",
       "      <td>878787105297422208.00</td>\n",
       "      <td>1042340593530943872.00</td>\n",
       "      <td>438392924078030720.00</td>\n",
       "    </tr>\n",
       "    <tr>\n",
       "      <th>date</th>\n",
       "      <td>33500650</td>\n",
       "      <td>2024-06-09 16:55:15.179328768</td>\n",
       "      <td>2023-12-10 00:00:00</td>\n",
       "      <td>2024-03-10 00:00:00</td>\n",
       "      <td>2024-06-10 00:00:00</td>\n",
       "      <td>2024-09-09 00:00:00</td>\n",
       "      <td>2024-12-23 00:00:00</td>\n",
       "      <td>NaN</td>\n",
       "    </tr>\n",
       "    <tr>\n",
       "      <th>minimum_nights</th>\n",
       "      <td>33500644.00</td>\n",
       "      <td>7.85</td>\n",
       "      <td>1.00</td>\n",
       "      <td>1.00</td>\n",
       "      <td>2.00</td>\n",
       "      <td>4.00</td>\n",
       "      <td>1125.00</td>\n",
       "      <td>32.88</td>\n",
       "    </tr>\n",
       "    <tr>\n",
       "      <th>maximum_nights</th>\n",
       "      <td>33500644.00</td>\n",
       "      <td>473924.96</td>\n",
       "      <td>1.00</td>\n",
       "      <td>99.00</td>\n",
       "      <td>365.00</td>\n",
       "      <td>1125.00</td>\n",
       "      <td>2147483647.00</td>\n",
       "      <td>31724676.13</td>\n",
       "    </tr>\n",
       "    <tr>\n",
       "      <th>available_int</th>\n",
       "      <td>33500650.00</td>\n",
       "      <td>0.35</td>\n",
       "      <td>0.00</td>\n",
       "      <td>0.00</td>\n",
       "      <td>0.00</td>\n",
       "      <td>1.00</td>\n",
       "      <td>1.00</td>\n",
       "      <td>0.48</td>\n",
       "    </tr>\n",
       "  </tbody>\n",
       "</table>\n",
       "</div>"
      ],
      "text/plain": [
       "                     count                           mean  \\\n",
       "listing_id     33500650.00          408655097778208448.00   \n",
       "date              33500650  2024-06-09 16:55:15.179328768   \n",
       "minimum_nights 33500644.00                           7.85   \n",
       "maximum_nights 33500644.00                      473924.96   \n",
       "available_int  33500650.00                           0.35   \n",
       "\n",
       "                                min                  25%                  50%  \\\n",
       "listing_id                 13913.00          23370935.00          52501739.00   \n",
       "date            2023-12-10 00:00:00  2024-03-10 00:00:00  2024-06-10 00:00:00   \n",
       "minimum_nights                 1.00                 1.00                 2.00   \n",
       "maximum_nights                 1.00                99.00               365.00   \n",
       "available_int                  0.00                 0.00                 0.00   \n",
       "\n",
       "                                 75%                    max  \\\n",
       "listing_id     878787105297422208.00 1042340593530943872.00   \n",
       "date             2024-09-09 00:00:00    2024-12-23 00:00:00   \n",
       "minimum_nights                  4.00                1125.00   \n",
       "maximum_nights               1125.00          2147483647.00   \n",
       "available_int                   1.00                   1.00   \n",
       "\n",
       "                                 std  \n",
       "listing_id     438392924078030720.00  \n",
       "date                             NaN  \n",
       "minimum_nights                 32.88  \n",
       "maximum_nights           31724676.13  \n",
       "available_int                   0.48  "
      ]
     },
     "execution_count": 48,
     "metadata": {},
     "output_type": "execute_result"
    }
   ],
   "source": [
    "dfCalendar.info()\n",
    "\n",
    "dfCalendar.describe().T"
   ]
  },
  {
   "cell_type": "code",
   "execution_count": 29,
   "metadata": {},
   "outputs": [
    {
     "data": {
      "text/plain": [
       "listing_id               0\n",
       "date                     0\n",
       "available                0\n",
       "price             31823863\n",
       "adjusted_price    33493715\n",
       "minimum_nights           6\n",
       "maximum_nights           6\n",
       "available_int            0\n",
       "dtype: int64"
      ]
     },
     "execution_count": 29,
     "metadata": {},
     "output_type": "execute_result"
    }
   ],
   "source": [
    "# Null Values count throughout dataset\n",
    "dfCalendar.isnull().sum()"
   ]
  },
  {
   "cell_type": "code",
   "execution_count": 30,
   "metadata": {},
   "outputs": [
    {
     "data": {
      "text/html": [
       "<div>\n",
       "<style scoped>\n",
       "    .dataframe tbody tr th:only-of-type {\n",
       "        vertical-align: middle;\n",
       "    }\n",
       "\n",
       "    .dataframe tbody tr th {\n",
       "        vertical-align: top;\n",
       "    }\n",
       "\n",
       "    .dataframe thead th {\n",
       "        text-align: right;\n",
       "    }\n",
       "</style>\n",
       "<table border=\"1\" class=\"dataframe\">\n",
       "  <thead>\n",
       "    <tr style=\"text-align: right;\">\n",
       "      <th></th>\n",
       "      <th>listing_id</th>\n",
       "      <th>date</th>\n",
       "      <th>available</th>\n",
       "      <th>minimum_nights</th>\n",
       "      <th>maximum_nights</th>\n",
       "      <th>available_int</th>\n",
       "    </tr>\n",
       "  </thead>\n",
       "  <tbody>\n",
       "    <tr>\n",
       "      <th>0</th>\n",
       "      <td>13913</td>\n",
       "      <td>2023-12-10</td>\n",
       "      <td>f</td>\n",
       "      <td>1.00</td>\n",
       "      <td>29.00</td>\n",
       "      <td>0</td>\n",
       "    </tr>\n",
       "    <tr>\n",
       "      <th>1</th>\n",
       "      <td>13913</td>\n",
       "      <td>2023-12-11</td>\n",
       "      <td>t</td>\n",
       "      <td>1.00</td>\n",
       "      <td>29.00</td>\n",
       "      <td>1</td>\n",
       "    </tr>\n",
       "    <tr>\n",
       "      <th>2</th>\n",
       "      <td>13913</td>\n",
       "      <td>2023-12-12</td>\n",
       "      <td>t</td>\n",
       "      <td>1.00</td>\n",
       "      <td>29.00</td>\n",
       "      <td>1</td>\n",
       "    </tr>\n",
       "    <tr>\n",
       "      <th>3</th>\n",
       "      <td>13913</td>\n",
       "      <td>2023-12-13</td>\n",
       "      <td>t</td>\n",
       "      <td>1.00</td>\n",
       "      <td>29.00</td>\n",
       "      <td>1</td>\n",
       "    </tr>\n",
       "    <tr>\n",
       "      <th>4</th>\n",
       "      <td>13913</td>\n",
       "      <td>2023-12-14</td>\n",
       "      <td>t</td>\n",
       "      <td>1.00</td>\n",
       "      <td>29.00</td>\n",
       "      <td>1</td>\n",
       "    </tr>\n",
       "  </tbody>\n",
       "</table>\n",
       "</div>"
      ],
      "text/plain": [
       "   listing_id       date available  minimum_nights  maximum_nights  \\\n",
       "0       13913 2023-12-10         f            1.00           29.00   \n",
       "1       13913 2023-12-11         t            1.00           29.00   \n",
       "2       13913 2023-12-12         t            1.00           29.00   \n",
       "3       13913 2023-12-13         t            1.00           29.00   \n",
       "4       13913 2023-12-14         t            1.00           29.00   \n",
       "\n",
       "   available_int  \n",
       "0              0  \n",
       "1              1  \n",
       "2              1  \n",
       "3              1  \n",
       "4              1  "
      ]
     },
     "execution_count": 30,
     "metadata": {},
     "output_type": "execute_result"
    }
   ],
   "source": [
    "# Remove columns with too many empty columns.\n",
    "dfCalendar = dfCalendar.drop(['price', 'adjusted_price'], axis=1)\n",
    "dfCalendar.head(5)"
   ]
  },
  {
   "cell_type": "code",
   "execution_count": 31,
   "metadata": {},
   "outputs": [
    {
     "name": "stdout",
     "output_type": "stream",
     "text": [
      "number of duplicate rows:  (0, 6)\n"
     ]
    }
   ],
   "source": [
    "# Check if there are duplicate levels\n",
    "\n",
    "duplicate_rows_dfCalendar = dfCalendar[dfCalendar.duplicated()]\n",
    "print(\"number of duplicate rows: \", duplicate_rows_dfCalendar.shape)"
   ]
  },
  {
   "cell_type": "markdown",
   "metadata": {},
   "source": [
    "## Outlier Detection\n",
    "\n",
    "Outlier detection for different attributes is important"
   ]
  },
  {
   "cell_type": "code",
   "execution_count": 32,
   "metadata": {},
   "outputs": [
    {
     "data": {
      "text/plain": [
       "<Axes: xlabel='minimum_nights'>"
      ]
     },
     "execution_count": 32,
     "metadata": {},
     "output_type": "execute_result"
    },
    {
     "data": {
      "image/png": "[encoded data removed]",
      "text/plain": [
       "<Figure size 640x480 with 1 Axes>"
      ]
     },
     "metadata": {},
     "output_type": "display_data"
    }
   ],
   "source": [
    "sns.boxplot(x=dfCalendar['minimum_nights'])"
   ]
  },
  {
   "cell_type": "code",
   "execution_count": 33,
   "metadata": {},
   "outputs": [
    {
     "data": {
      "text/plain": [
       "<Axes: xlabel='maximum_nights'>"
      ]
     },
     "execution_count": 33,
     "metadata": {},
     "output_type": "execute_result"
    },
    {
     "data": {
      "image/png": "[encoded data removed]",
      "text/plain": [
       "<Figure size 640x480 with 1 Axes>"
      ]
     },
     "metadata": {},
     "output_type": "display_data"
    }
   ],
   "source": [
    "sns.boxplot(x=dfCalendar['maximum_nights'])"
   ]
  },
  {
   "cell_type": "code",
   "execution_count": 34,
   "metadata": {},
   "outputs": [
    {
     "data": {
      "image/png": "[encoded data removed]",
      "text/plain": [
       "<Figure size 1000x500 with 1 Axes>"
      ]
     },
     "metadata": {},
     "output_type": "display_data"
    }
   ],
   "source": [
    "dfCalendar.minimum_nights.value_counts().nlargest(8).plot(kind='bar', figsize=(10,5))\n",
    "plt.title(\"Number of listings per minimum night requirement\")\n",
    "plt.ylabel('Number of listings')\n",
    "plt.xlabel('Minimum number of nights per stay');"
   ]
  },
  {
   "cell_type": "code",
   "execution_count": 38,
   "metadata": {},
   "outputs": [
    {
     "data": {
      "text/plain": [
       "listing_id                 int64\n",
       "date              datetime64[ns]\n",
       "available                 object\n",
       "minimum_nights           float64\n",
       "maximum_nights           float64\n",
       "available_int              int64\n",
       "dtype: object"
      ]
     },
     "execution_count": 38,
     "metadata": {},
     "output_type": "execute_result"
    }
   ],
   "source": [
    "dfCalendar.dtypes"
   ]
  },
  {
   "cell_type": "code",
   "execution_count": 45,
   "metadata": {},
   "outputs": [
    {
     "data": {
      "text/html": [
       "<div>\n",
       "<style scoped>\n",
       "    .dataframe tbody tr th:only-of-type {\n",
       "        vertical-align: middle;\n",
       "    }\n",
       "\n",
       "    .dataframe tbody tr th {\n",
       "        vertical-align: top;\n",
       "    }\n",
       "\n",
       "    .dataframe thead th {\n",
       "        text-align: right;\n",
       "    }\n",
       "</style>\n",
       "<table border=\"1\" class=\"dataframe\">\n",
       "  <thead>\n",
       "    <tr style=\"text-align: right;\">\n",
       "      <th></th>\n",
       "      <th>listing_id</th>\n",
       "      <th>minimum_nights</th>\n",
       "      <th>maximum_nights</th>\n",
       "      <th>available_int</th>\n",
       "    </tr>\n",
       "  </thead>\n",
       "  <tbody>\n",
       "    <tr>\n",
       "      <th>listing_id</th>\n",
       "      <td>1.00</td>\n",
       "      <td>0.01</td>\n",
       "      <td>-0.01</td>\n",
       "      <td>0.25</td>\n",
       "    </tr>\n",
       "    <tr>\n",
       "      <th>minimum_nights</th>\n",
       "      <td>0.01</td>\n",
       "      <td>1.00</td>\n",
       "      <td>-0.00</td>\n",
       "      <td>0.06</td>\n",
       "    </tr>\n",
       "    <tr>\n",
       "      <th>maximum_nights</th>\n",
       "      <td>-0.01</td>\n",
       "      <td>-0.00</td>\n",
       "      <td>1.00</td>\n",
       "      <td>0.02</td>\n",
       "    </tr>\n",
       "    <tr>\n",
       "      <th>available_int</th>\n",
       "      <td>0.25</td>\n",
       "      <td>0.06</td>\n",
       "      <td>0.02</td>\n",
       "      <td>1.00</td>\n",
       "    </tr>\n",
       "  </tbody>\n",
       "</table>\n",
       "</div>"
      ],
      "text/plain": [
       "                listing_id  minimum_nights  maximum_nights  available_int\n",
       "listing_id            1.00            0.01           -0.01           0.25\n",
       "minimum_nights        0.01            1.00           -0.00           0.06\n",
       "maximum_nights       -0.01           -0.00            1.00           0.02\n",
       "available_int         0.25            0.06            0.02           1.00"
      ]
     },
     "execution_count": 45,
     "metadata": {},
     "output_type": "execute_result"
    },
    {
     "data": {
      "image/png": "[encoded data removed]",
      "text/plain": [
       "<Figure size 1000x500 with 2 Axes>"
      ]
     },
     "metadata": {},
     "output_type": "display_data"
    }
   ],
   "source": [
    "plt.figure(figsize=(10,5))\n",
    "c= dfCalendar.corr(method='pearson', numeric_only=True)\n",
    "sns.heatmap(c,cmap=\"BrBG\",annot=True)\n",
    "c"
   ]
  }
 ],
 "metadata": {
  "kernelspec": {
   "display_name": "Python 3",
   "language": "python",
   "name": "python3"
  },
  "language_info": {
   "codemirror_mode": {
    "name": "ipython",
    "version": 3
   },
   "file_extension": ".py",
   "mimetype": "text/x-python",
   "name": "python",
   "nbconvert_exporter": "python",
   "pygments_lexer": "ipython3",
   "version": "3.12.1"
  }
 },
 "nbformat": 4,
 "nbformat_minor": 2
}
